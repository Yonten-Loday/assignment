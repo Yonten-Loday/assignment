{
 "cells": [
  {
   "cell_type": "code",
   "execution_count": 77,
   "id": "6a0017f0-1e17-42f6-95b7-6e1624e04224",
   "metadata": {},
   "outputs": [
    {
     "name": "stdout",
     "output_type": "stream",
     "text": [
      "3276\n",
      "166650\n"
     ]
    }
   ],
   "source": [
    "from itertools import combinations_with_replacement\n",
    "from itertools import combinations\n",
    "\n",
    "abc = ['a', 'b', 'c', 'd', 'e', 'f', 'g', 'h', 'i', 'j', 'k', 'l', 'm', 'n', 'o', 'p', 'q', 'r', 's', 't', 'u', 'v', 'w', 'x', 'y', 'z']\n",
    "number = range(1,100)\n",
    "\n",
    "comb_plateABC = combinations_with_replacement(abc, 3)\n",
    "pos_count = 0\n",
    "for i in list(comb_plateABC):\n",
    "    pos_count = pos_count+1\n",
    "    \n",
    "comb_plateNUM = combinations_with_replacement(number, 3)\n",
    "NUM_count = 0\n",
    "for i in list(comb_plateNUM):\n",
    "    NUM_count = NUM_count+1\n",
    "    \n",
    "print(pos_count)\n",
    "print(NUM_count)"
   ]
  },
  {
   "cell_type": "code",
   "execution_count": null,
   "id": "ab9fb82f-27bd-4288-85de-3665b0a2c396",
   "metadata": {},
   "outputs": [],
   "source": [
    "def combinations_fun(group,pronum):\n",
    "    comb_pass = combinations(group, pronum)\n",
    "    CHAR_count = 0\n",
    "    for i in list(comb_pass):\n",
    "        print(i)\n",
    "        CHAR_count = CHAR_count+1\n",
    "    return CHAR_count"
   ]
  },
  {
   "cell_type": "code",
   "execution_count": 78,
   "id": "8da253d0-4372-405d-8fba-d5aa1c460585",
   "metadata": {},
   "outputs": [
    {
     "data": {
      "text/plain": [
       "545945400"
      ]
     },
     "execution_count": 78,
     "metadata": {},
     "output_type": "execute_result"
    }
   ],
   "source": [
    "pos_count*NUM_count"
   ]
  },
  {
   "cell_type": "code",
   "execution_count": 83,
   "id": "c21186f8-03cd-4f1a-99e9-4d1afd975047",
   "metadata": {},
   "outputs": [
    {
     "name": "stdout",
     "output_type": "stream",
     "text": [
      "230230\n"
     ]
    }
   ],
   "source": [
    "ABC = ['A', 'B', 'C', 'D', 'E', 'F', 'G', 'H', 'I', 'J', 'K', 'L', 'M', 'N', 'O', 'P', 'Q', 'R', 'S', 'T', 'U', 'V', 'W', 'X', 'Y', 'Z']\n",
    "number = range(0,9)\n",
    "\n",
    "\n",
    "\n",
    "print(combinations_fun(6))"
   ]
  },
  {
   "cell_type": "code",
   "execution_count": null,
   "id": "50f78005-cbb8-402b-9748-217f50731fcd",
   "metadata": {},
   "outputs": [],
   "source": [
    "comb_passSEVCHAR= combinations_with_replacement(ABC, 7)\n",
    "SEVCHAR_count = 0\n",
    "for i in list(comb_passSEVCHAR):\n",
    "    SEVCHAR_count = SEVCHAR_count+1\n",
    "\n",
    "comb_passEIGHTCHAR= combinations_with_replacement(ABC, 8)\n",
    "EIGHTCHAR_count = 0\n",
    "for i in list(comb_passEIGHTCHAR):\n",
    "    EIGHTCHAR_count = EIGHTCHAR_count+1\n",
    "    \n",
    "comb_passADIGIT = combinations_with_replacement(number, 1)\n",
    "NUM_count = 0\n",
    "for i in list(comb_passADIGIT):\n",
    "    NUM_count = NUM_count+1"
   ]
  },
  {
   "cell_type": "code",
   "execution_count": 66,
   "id": "4794f5c3-e5ab-4afb-a4d2-30951fd27710",
   "metadata": {},
   "outputs": [
    {
     "name": "stdout",
     "output_type": "stream",
     "text": [
      "161876637\n"
     ]
    }
   ],
   "source": [
    "print((SIXCHAR_count*NUM_count)+(SEVCHAR_count*NUM_count)+(EIGHTCHAR_count*NUM_count))"
   ]
  },
  {
   "cell_type": "code",
   "execution_count": 67,
   "id": "745d0821-d500-4146-9374-8ac1d0cd00bf",
   "metadata": {},
   "outputs": [
    {
     "data": {
      "text/plain": [
       "736281"
      ]
     },
     "execution_count": 67,
     "metadata": {},
     "output_type": "execute_result"
    }
   ],
   "source": [
    "SIXCHAR_count"
   ]
  },
  {
   "cell_type": "code",
   "execution_count": 480,
   "id": "5f052a40-84c3-4e9d-a49e-b7cf17903d64",
   "metadata": {},
   "outputs": [],
   "source": [
    "# Create 3 lists\n",
    "first_list=list(range(1,25))\n",
    "second_list=list(range(1,17))\n",
    "third_list=list(range(1,21))"
   ]
  },
  {
   "cell_type": "code",
   "execution_count": 481,
   "id": "a95fb69f-fe53-42d7-be7c-4e49e0224257",
   "metadata": {},
   "outputs": [],
   "source": [
    "string1 = \"A\"\n",
    "string2 = \"B\"\n",
    "string3 = \"C\""
   ]
  },
  {
   "cell_type": "code",
   "execution_count": 482,
   "id": "1271e718-21b9-4234-b7cc-60cf731233be",
   "metadata": {},
   "outputs": [],
   "source": [
    "# set element format to A1, A2,... A24\n",
    "list_1 = [\"{}{}\".format(string1,i) for i in first_list]"
   ]
  },
  {
   "cell_type": "code",
   "execution_count": 483,
   "id": "837c2a17-c7ce-4d46-8946-61f47b14ee42",
   "metadata": {},
   "outputs": [],
   "source": [
    "# set element format to B1, B2,... B16\n",
    "list_2 = [\"{}{}\".format(string2,i) for i in second_list]"
   ]
  },
  {
   "cell_type": "code",
   "execution_count": 484,
   "id": "d7f5a252-fa02-4d91-9598-9df06bd7cbca",
   "metadata": {},
   "outputs": [],
   "source": [
    "# set element format to C1, C2,... C20\n",
    "list_3 = [\"{}{}\".format(string3,i) for i in third_list]"
   ]
  },
  {
   "cell_type": "code",
   "execution_count": 485,
   "id": "875864e4-3b05-4aad-9ae8-b836211c0c07",
   "metadata": {},
   "outputs": [],
   "source": [
    "import random\n",
    "\n",
    "def project_selection(new_list):\n",
    "    import random\n",
    "    while len(list_1)>0 and len(list_2)>0 and len(list_3)>0:\n",
    "        random_num = random.random()\n",
    "        if random_num <0.34:\n",
    "            try:\n",
    "                rannum1 = random.choice(list_1)\n",
    "                new_list.append(rannum1)\n",
    "                list_1.remove(rannum1)\n",
    "            except IndexError:\n",
    "                print('Not enough project to select from list_1')\n",
    "        elif random_num < 0.69:\n",
    "            try:\n",
    "                rannum2 = random.choice(list_2)\n",
    "                new_list.append(rannum2)\n",
    "                list_2.remove(rannum2)\n",
    "            except IndexError:\n",
    "                print('Not enough project to select from list_2')\n",
    "        else:\n",
    "            try:\n",
    "                rannum3 = random.choice(list_3)\n",
    "                new_list.append(rannum2)\n",
    "                list_3.remove(rannum3)\n",
    "            except IndexError:\n",
    "                print('Not enough project to select from list_3')"
   ]
  },
  {
   "cell_type": "code",
   "execution_count": 486,
   "id": "9e465b38-35c7-4220-8f8d-547ca5e56a40",
   "metadata": {},
   "outputs": [],
   "source": [
    "project_bucket = []"
   ]
  },
  {
   "cell_type": "code",
   "execution_count": 487,
   "id": "080356e2-782b-4d6e-8bba-fb7ab488f9b1",
   "metadata": {},
   "outputs": [
    {
     "data": {
      "text/plain": [
       "['A16',\n",
       " 'A24',\n",
       " 'A12',\n",
       " 'B9',\n",
       " 'A20',\n",
       " 'B9',\n",
       " 'A3',\n",
       " 'B10',\n",
       " 'B10',\n",
       " 'B10',\n",
       " 'A1',\n",
       " 'A10',\n",
       " 'A13',\n",
       " 'B10',\n",
       " 'B10',\n",
       " 'B10',\n",
       " 'B10',\n",
       " 'A19',\n",
       " 'B1',\n",
       " 'A2',\n",
       " 'B1',\n",
       " 'A9',\n",
       " 'A7',\n",
       " 'B6',\n",
       " 'A17',\n",
       " 'A15',\n",
       " 'B6',\n",
       " 'A4',\n",
       " 'B7',\n",
       " 'B15',\n",
       " 'A8',\n",
       " 'B12',\n",
       " 'B12',\n",
       " 'B5',\n",
       " 'A21',\n",
       " 'B14',\n",
       " 'A14',\n",
       " 'B4',\n",
       " 'B2',\n",
       " 'B11',\n",
       " 'A18',\n",
       " 'B13',\n",
       " 'A11',\n",
       " 'B13',\n",
       " 'A23',\n",
       " 'B8',\n",
       " 'B3',\n",
       " 'B16']"
      ]
     },
     "execution_count": 487,
     "metadata": {},
     "output_type": "execute_result"
    }
   ],
   "source": [
    "project_selection(project_bucket)\n",
    "project_bucket"
   ]
  },
  {
   "cell_type": "code",
   "execution_count": 488,
   "id": "2201c6ef-d01b-426b-9421-74cb8df86116",
   "metadata": {},
   "outputs": [
    {
     "data": {
      "text/plain": [
       "['A1',\n",
       " 'A10',\n",
       " 'A11',\n",
       " 'A12',\n",
       " 'A13',\n",
       " 'A14',\n",
       " 'A15',\n",
       " 'A16',\n",
       " 'A17',\n",
       " 'A18',\n",
       " 'A19',\n",
       " 'A2',\n",
       " 'A20',\n",
       " 'A21',\n",
       " 'A23',\n",
       " 'A24',\n",
       " 'A3',\n",
       " 'A4',\n",
       " 'A7',\n",
       " 'A8',\n",
       " 'A9',\n",
       " 'B1',\n",
       " 'B1',\n",
       " 'B10',\n",
       " 'B10',\n",
       " 'B10',\n",
       " 'B10',\n",
       " 'B10',\n",
       " 'B10',\n",
       " 'B10',\n",
       " 'B11',\n",
       " 'B12',\n",
       " 'B12',\n",
       " 'B13',\n",
       " 'B13',\n",
       " 'B14',\n",
       " 'B15',\n",
       " 'B16',\n",
       " 'B2',\n",
       " 'B3',\n",
       " 'B4',\n",
       " 'B5',\n",
       " 'B6',\n",
       " 'B6',\n",
       " 'B7',\n",
       " 'B8',\n",
       " 'B9',\n",
       " 'B9']"
      ]
     },
     "execution_count": 488,
     "metadata": {},
     "output_type": "execute_result"
    }
   ],
   "source": [
    "project_bucket.sort()\n",
    "project_bucket"
   ]
  },
  {
   "cell_type": "code",
   "execution_count": null,
   "id": "6ea42eff-4685-4616-866e-2ea3c1462af5",
   "metadata": {},
   "outputs": [],
   "source": []
  }
 ],
 "metadata": {
  "kernelspec": {
   "display_name": "Python 3",
   "language": "python",
   "name": "python3"
  },
  "language_info": {
   "codemirror_mode": {
    "name": "ipython",
    "version": 3
   },
   "file_extension": ".py",
   "mimetype": "text/x-python",
   "name": "python",
   "nbconvert_exporter": "python",
   "pygments_lexer": "ipython3",
   "version": "3.9.1"
  }
 },
 "nbformat": 4,
 "nbformat_minor": 5
}
