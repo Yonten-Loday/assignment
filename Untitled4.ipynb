{
 "cells": [
  {
   "cell_type": "code",
   "execution_count": 1,
   "metadata": {},
   "outputs": [],
   "source": [
    "import pandas as pd\n",
    "import matplotlib.pyplot as plt\n",
    "import numpy as np\n",
    "import seaborn as sns"
   ]
  },
  {
   "cell_type": "code",
   "execution_count": 46,
   "metadata": {},
   "outputs": [
    {
     "data": {
      "text/html": [
       "<div>\n",
       "<style scoped>\n",
       "    .dataframe tbody tr th:only-of-type {\n",
       "        vertical-align: middle;\n",
       "    }\n",
       "\n",
       "    .dataframe tbody tr th {\n",
       "        vertical-align: top;\n",
       "    }\n",
       "\n",
       "    .dataframe thead th {\n",
       "        text-align: right;\n",
       "    }\n",
       "</style>\n",
       "<table border=\"1\" class=\"dataframe\">\n",
       "  <thead>\n",
       "    <tr style=\"text-align: right;\">\n",
       "      <th></th>\n",
       "      <th>PromotionId</th>\n",
       "      <th>description</th>\n",
       "      <th>bad</th>\n",
       "    </tr>\n",
       "  </thead>\n",
       "  <tbody>\n",
       "    <tr>\n",
       "      <th>0</th>\n",
       "      <td>1NWLAzBwCUadj2dLNYVrTib3XuTL0T</td>\n",
       "      <td>ซาลาปัง จัดใหญ่แทนใจคนที่คุณรัก</td>\n",
       "      <td>0</td>\n",
       "    </tr>\n",
       "    <tr>\n",
       "      <th>1</th>\n",
       "      <td>1NWLD3dp7tdq34WkgzQGLiPQM7dFC5</td>\n",
       "      <td>ทะเลทะลัก!! สุดยอดบุฟเฟ่ต์ทะเล ที่คุณไม่ควรพลา...</td>\n",
       "      <td>0</td>\n",
       "    </tr>\n",
       "    <tr>\n",
       "      <th>2</th>\n",
       "      <td>1NWLCHgnVeBb2TIup13b1RSOLOl3Cq</td>\n",
       "      <td>บัตรสมาชิก By อ.กุ้งเผาโคราช\\n\\n\\n\\nบัตรสมาชิก...</td>\n",
       "      <td>1</td>\n",
       "    </tr>\n",
       "    <tr>\n",
       "      <th>3</th>\n",
       "      <td>1NWLC9rEila7y7EyYKPp17zCMkjHs2</td>\n",
       "      <td>สาวกเพื่อสุขภาพครับ</td>\n",
       "      <td>1</td>\n",
       "    </tr>\n",
       "    <tr>\n",
       "      <th>4</th>\n",
       "      <td>1NWLCUe1qEBZtZEwInmjdBoce8XBF2</td>\n",
       "      <td>วันเกิด แจ้งพนักงาน รับฟรีฮันนีโทส1จานค่ะ\\n\\n\\n\\n</td>\n",
       "      <td>0</td>\n",
       "    </tr>\n",
       "    <tr>\n",
       "      <th>...</th>\n",
       "      <td>...</td>\n",
       "      <td>...</td>\n",
       "      <td>...</td>\n",
       "    </tr>\n",
       "    <tr>\n",
       "      <th>2100</th>\n",
       "      <td>1NWL9v9ua9oLaFs779duFoI9ft0fga</td>\n",
       "      <td>อิ่มคุ้ม สบายกระเป๋า กับชุด Super Save จับคู่ ...</td>\n",
       "      <td>0</td>\n",
       "    </tr>\n",
       "    <tr>\n",
       "      <th>2101</th>\n",
       "      <td>1NWLBrPfc24ETTz9QzE8Ve51n6jigw</td>\n",
       "      <td>NaN</td>\n",
       "      <td>0</td>\n",
       "    </tr>\n",
       "    <tr>\n",
       "      <th>2102</th>\n",
       "      <td>1NWLBCWHKnRCd94ttE5Ax5L1fYKaTE</td>\n",
       "      <td>หมูนุ่มน้ำมันงา นุ่มละมุน ละลายในปาก หอมน้ำมัน...</td>\n",
       "      <td>1</td>\n",
       "    </tr>\n",
       "    <tr>\n",
       "      <th>2103</th>\n",
       "      <td>1NWLCG2dgzDFbbPtmjzv4n1GyNgdnb</td>\n",
       "      <td>NaN</td>\n",
       "      <td>1</td>\n",
       "    </tr>\n",
       "    <tr>\n",
       "      <th>2104</th>\n",
       "      <td>1NWLBEnU3EMnAZNhFyRQQj9WgmEuyy</td>\n",
       "      <td>ขนมปังกรอบ</td>\n",
       "      <td>1</td>\n",
       "    </tr>\n",
       "  </tbody>\n",
       "</table>\n",
       "<p>2105 rows × 3 columns</p>\n",
       "</div>"
      ],
      "text/plain": [
       "                         PromotionId  \\\n",
       "0     1NWLAzBwCUadj2dLNYVrTib3XuTL0T   \n",
       "1     1NWLD3dp7tdq34WkgzQGLiPQM7dFC5   \n",
       "2     1NWLCHgnVeBb2TIup13b1RSOLOl3Cq   \n",
       "3     1NWLC9rEila7y7EyYKPp17zCMkjHs2   \n",
       "4     1NWLCUe1qEBZtZEwInmjdBoce8XBF2   \n",
       "...                              ...   \n",
       "2100  1NWL9v9ua9oLaFs779duFoI9ft0fga   \n",
       "2101  1NWLBrPfc24ETTz9QzE8Ve51n6jigw   \n",
       "2102  1NWLBCWHKnRCd94ttE5Ax5L1fYKaTE   \n",
       "2103  1NWLCG2dgzDFbbPtmjzv4n1GyNgdnb   \n",
       "2104  1NWLBEnU3EMnAZNhFyRQQj9WgmEuyy   \n",
       "\n",
       "                                            description  bad  \n",
       "0                       ซาลาปัง จัดใหญ่แทนใจคนที่คุณรัก    0  \n",
       "1     ทะเลทะลัก!! สุดยอดบุฟเฟ่ต์ทะเล ที่คุณไม่ควรพลา...    0  \n",
       "2     บัตรสมาชิก By อ.กุ้งเผาโคราช\\n\\n\\n\\nบัตรสมาชิก...    1  \n",
       "3                                   สาวกเพื่อสุขภาพครับ    1  \n",
       "4     วันเกิด แจ้งพนักงาน รับฟรีฮันนีโทส1จานค่ะ\\n\\n\\n\\n    0  \n",
       "...                                                 ...  ...  \n",
       "2100  อิ่มคุ้ม สบายกระเป๋า กับชุด Super Save จับคู่ ...    0  \n",
       "2101                                                NaN    0  \n",
       "2102  หมูนุ่มน้ำมันงา นุ่มละมุน ละลายในปาก หอมน้ำมัน...    1  \n",
       "2103                                                NaN    1  \n",
       "2104                                         ขนมปังกรอบ    1  \n",
       "\n",
       "[2105 rows x 3 columns]"
      ]
     },
     "execution_count": 46,
     "metadata": {},
     "output_type": "execute_result"
    }
   ],
   "source": [
    "df_train = pd.read_csv('training_set.csv')\n",
    "df_train"
   ]
  },
  {
   "cell_type": "code",
   "execution_count": 47,
   "metadata": {},
   "outputs": [
    {
     "name": "stdout",
     "output_type": "stream",
     "text": [
      "<class 'pandas.core.frame.DataFrame'>\n",
      "RangeIndex: 2105 entries, 0 to 2104\n",
      "Data columns (total 3 columns):\n",
      " #   Column       Non-Null Count  Dtype \n",
      "---  ------       --------------  ----- \n",
      " 0   PromotionId  2105 non-null   object\n",
      " 1   description  1535 non-null   object\n",
      " 2   bad          2105 non-null   int64 \n",
      "dtypes: int64(1), object(2)\n",
      "memory usage: 49.5+ KB\n"
     ]
    }
   ],
   "source": [
    "df_train.info()"
   ]
  },
  {
   "cell_type": "code",
   "execution_count": 48,
   "metadata": {},
   "outputs": [
    {
     "data": {
      "text/plain": [
       "PromotionId      0\n",
       "description    570\n",
       "bad              0\n",
       "dtype: int64"
      ]
     },
     "execution_count": 48,
     "metadata": {},
     "output_type": "execute_result"
    }
   ],
   "source": [
    "df_train.isnull().sum()"
   ]
  },
  {
   "cell_type": "code",
   "execution_count": 58,
   "metadata": {},
   "outputs": [],
   "source": [
    "df_train.dropna(subset = ['description'],inplace = True)"
   ]
  },
  {
   "cell_type": "code",
   "execution_count": 59,
   "metadata": {},
   "outputs": [
    {
     "data": {
      "text/plain": [
       "PromotionId    0\n",
       "description    0\n",
       "bad            0\n",
       "dtype: int64"
      ]
     },
     "execution_count": 59,
     "metadata": {},
     "output_type": "execute_result"
    }
   ],
   "source": [
    "df_train.isnull().sum()"
   ]
  },
  {
   "cell_type": "code",
   "execution_count": 60,
   "metadata": {},
   "outputs": [
    {
     "data": {
      "text/plain": [
       "0    880\n",
       "1    655\n",
       "Name: bad, dtype: int64"
      ]
     },
     "execution_count": 60,
     "metadata": {},
     "output_type": "execute_result"
    }
   ],
   "source": [
    "df_train['bad'].value_counts()"
   ]
  },
  {
   "cell_type": "code",
   "execution_count": 61,
   "metadata": {},
   "outputs": [
    {
     "data": {
      "text/plain": [
       "0    0.57329\n",
       "1    0.42671\n",
       "Name: bad, dtype: float64"
      ]
     },
     "execution_count": 61,
     "metadata": {},
     "output_type": "execute_result"
    }
   ],
   "source": [
    "df_train['bad'].value_counts(normalize=True)"
   ]
  },
  {
   "cell_type": "code",
   "execution_count": 79,
   "metadata": {},
   "outputs": [
    {
     "data": {
      "text/html": [
       "<div>\n",
       "<style scoped>\n",
       "    .dataframe tbody tr th:only-of-type {\n",
       "        vertical-align: middle;\n",
       "    }\n",
       "\n",
       "    .dataframe tbody tr th {\n",
       "        vertical-align: top;\n",
       "    }\n",
       "\n",
       "    .dataframe thead th {\n",
       "        text-align: right;\n",
       "    }\n",
       "</style>\n",
       "<table border=\"1\" class=\"dataframe\">\n",
       "  <thead>\n",
       "    <tr style=\"text-align: right;\">\n",
       "      <th></th>\n",
       "      <th>PromotionId</th>\n",
       "      <th>description</th>\n",
       "      <th>bad</th>\n",
       "      <th>label</th>\n",
       "    </tr>\n",
       "  </thead>\n",
       "  <tbody>\n",
       "    <tr>\n",
       "      <th>0</th>\n",
       "      <td>1NWLAzBwCUadj2dLNYVrTib3XuTL0T</td>\n",
       "      <td>ซาลาปัง จัดใหญ่แทนใจคนที่คุณรัก</td>\n",
       "      <td>0</td>\n",
       "      <td>ham</td>\n",
       "    </tr>\n",
       "    <tr>\n",
       "      <th>1</th>\n",
       "      <td>1NWLD3dp7tdq34WkgzQGLiPQM7dFC5</td>\n",
       "      <td>ทะเลทะลัก!! สุดยอดบุฟเฟ่ต์ทะเล ที่คุณไม่ควรพลา...</td>\n",
       "      <td>0</td>\n",
       "      <td>ham</td>\n",
       "    </tr>\n",
       "    <tr>\n",
       "      <th>2</th>\n",
       "      <td>1NWLCHgnVeBb2TIup13b1RSOLOl3Cq</td>\n",
       "      <td>บัตรสมาชิก By อ.กุ้งเผาโคราช\\n\\n\\n\\nบัตรสมาชิก...</td>\n",
       "      <td>1</td>\n",
       "      <td>spam</td>\n",
       "    </tr>\n",
       "    <tr>\n",
       "      <th>3</th>\n",
       "      <td>1NWLC9rEila7y7EyYKPp17zCMkjHs2</td>\n",
       "      <td>สาวกเพื่อสุขภาพครับ</td>\n",
       "      <td>1</td>\n",
       "      <td>spam</td>\n",
       "    </tr>\n",
       "    <tr>\n",
       "      <th>4</th>\n",
       "      <td>1NWLCUe1qEBZtZEwInmjdBoce8XBF2</td>\n",
       "      <td>วันเกิด แจ้งพนักงาน รับฟรีฮันนีโทส1จานค่ะ\\n\\n\\n\\n</td>\n",
       "      <td>0</td>\n",
       "      <td>ham</td>\n",
       "    </tr>\n",
       "    <tr>\n",
       "      <th>...</th>\n",
       "      <td>...</td>\n",
       "      <td>...</td>\n",
       "      <td>...</td>\n",
       "      <td>...</td>\n",
       "    </tr>\n",
       "    <tr>\n",
       "      <th>2098</th>\n",
       "      <td>1NWLAvgSKGWWZhILvYEZFMqVOvguRO</td>\n",
       "      <td>Hmmmmmmm</td>\n",
       "      <td>1</td>\n",
       "      <td>spam</td>\n",
       "    </tr>\n",
       "    <tr>\n",
       "      <th>2099</th>\n",
       "      <td>1NWLBEniPtL93NmkjkudRZqI1AYlPD</td>\n",
       "      <td>โก้โก้\\n\\n\\n</td>\n",
       "      <td>1</td>\n",
       "      <td>spam</td>\n",
       "    </tr>\n",
       "    <tr>\n",
       "      <th>2100</th>\n",
       "      <td>1NWL9v9ua9oLaFs779duFoI9ft0fga</td>\n",
       "      <td>อิ่มคุ้ม สบายกระเป๋า กับชุด Super Save จับคู่ ...</td>\n",
       "      <td>0</td>\n",
       "      <td>ham</td>\n",
       "    </tr>\n",
       "    <tr>\n",
       "      <th>2102</th>\n",
       "      <td>1NWLBCWHKnRCd94ttE5Ax5L1fYKaTE</td>\n",
       "      <td>หมูนุ่มน้ำมันงา นุ่มละมุน ละลายในปาก หอมน้ำมัน...</td>\n",
       "      <td>1</td>\n",
       "      <td>spam</td>\n",
       "    </tr>\n",
       "    <tr>\n",
       "      <th>2104</th>\n",
       "      <td>1NWLBEnU3EMnAZNhFyRQQj9WgmEuyy</td>\n",
       "      <td>ขนมปังกรอบ</td>\n",
       "      <td>1</td>\n",
       "      <td>spam</td>\n",
       "    </tr>\n",
       "  </tbody>\n",
       "</table>\n",
       "<p>1535 rows × 4 columns</p>\n",
       "</div>"
      ],
      "text/plain": [
       "                         PromotionId  \\\n",
       "0     1NWLAzBwCUadj2dLNYVrTib3XuTL0T   \n",
       "1     1NWLD3dp7tdq34WkgzQGLiPQM7dFC5   \n",
       "2     1NWLCHgnVeBb2TIup13b1RSOLOl3Cq   \n",
       "3     1NWLC9rEila7y7EyYKPp17zCMkjHs2   \n",
       "4     1NWLCUe1qEBZtZEwInmjdBoce8XBF2   \n",
       "...                              ...   \n",
       "2098  1NWLAvgSKGWWZhILvYEZFMqVOvguRO   \n",
       "2099  1NWLBEniPtL93NmkjkudRZqI1AYlPD   \n",
       "2100  1NWL9v9ua9oLaFs779duFoI9ft0fga   \n",
       "2102  1NWLBCWHKnRCd94ttE5Ax5L1fYKaTE   \n",
       "2104  1NWLBEnU3EMnAZNhFyRQQj9WgmEuyy   \n",
       "\n",
       "                                            description  bad label  \n",
       "0                       ซาลาปัง จัดใหญ่แทนใจคนที่คุณรัก    0   ham  \n",
       "1     ทะเลทะลัก!! สุดยอดบุฟเฟ่ต์ทะเล ที่คุณไม่ควรพลา...    0   ham  \n",
       "2     บัตรสมาชิก By อ.กุ้งเผาโคราช\\n\\n\\n\\nบัตรสมาชิก...    1  spam  \n",
       "3                                   สาวกเพื่อสุขภาพครับ    1  spam  \n",
       "4     วันเกิด แจ้งพนักงาน รับฟรีฮันนีโทส1จานค่ะ\\n\\n\\n\\n    0   ham  \n",
       "...                                                 ...  ...   ...  \n",
       "2098                                           Hmmmmmmm    1  spam  \n",
       "2099                                       โก้โก้\\n\\n\\n    1  spam  \n",
       "2100  อิ่มคุ้ม สบายกระเป๋า กับชุด Super Save จับคู่ ...    0   ham  \n",
       "2102  หมูนุ่มน้ำมันงา นุ่มละมุน ละลายในปาก หอมน้ำมัน...    1  spam  \n",
       "2104                                         ขนมปังกรอบ    1  spam  \n",
       "\n",
       "[1535 rows x 4 columns]"
      ]
     },
     "execution_count": 79,
     "metadata": {},
     "output_type": "execute_result"
    }
   ],
   "source": [
    "df_train[\"label\"] = df_train[\"bad\"].apply(lambda score: \"spam\" if score == 1 else \"ham\")\n",
    "df_train"
   ]
  },
  {
   "cell_type": "code",
   "execution_count": 63,
   "metadata": {},
   "outputs": [
    {
     "data": {
      "image/png": "[encoded data removed]",
      "text/plain": [
       "<Figure size 432x288 with 1 Axes>"
      ]
     },
     "metadata": {
      "needs_background": "light"
     },
     "output_type": "display_data"
    }
   ],
   "source": [
    "df_train['label'].value_counts().plot.bar()\n",
    "plt.ylabel('Counts')\n",
    "plt.xlabel('Category')\n",
    "plt.show()"
   ]
  },
  {
   "cell_type": "code",
   "execution_count": 64,
   "metadata": {},
   "outputs": [
    {
     "data": {
      "text/html": [
       "<div>\n",
       "<style scoped>\n",
       "    .dataframe tbody tr th:only-of-type {\n",
       "        vertical-align: middle;\n",
       "    }\n",
       "\n",
       "    .dataframe tbody tr th {\n",
       "        vertical-align: top;\n",
       "    }\n",
       "\n",
       "    .dataframe thead th {\n",
       "        text-align: right;\n",
       "    }\n",
       "</style>\n",
       "<table border=\"1\" class=\"dataframe\">\n",
       "  <thead>\n",
       "    <tr style=\"text-align: right;\">\n",
       "      <th></th>\n",
       "      <th>PromotionId</th>\n",
       "      <th>description</th>\n",
       "      <th>bad</th>\n",
       "      <th>label</th>\n",
       "    </tr>\n",
       "  </thead>\n",
       "  <tbody>\n",
       "    <tr>\n",
       "      <th>0</th>\n",
       "      <td>1NWLAzBwCUadj2dLNYVrTib3XuTL0T</td>\n",
       "      <td>ซาลาปัง จัดใหญ่แทนใจคนที่คุณรัก</td>\n",
       "      <td>0</td>\n",
       "      <td>ham</td>\n",
       "    </tr>\n",
       "    <tr>\n",
       "      <th>1</th>\n",
       "      <td>1NWLD3dp7tdq34WkgzQGLiPQM7dFC5</td>\n",
       "      <td>ทะเลทะลัก!! สุดยอดบุฟเฟ่ต์ทะเล ที่คุณไม่ควรพลา...</td>\n",
       "      <td>0</td>\n",
       "      <td>ham</td>\n",
       "    </tr>\n",
       "    <tr>\n",
       "      <th>2</th>\n",
       "      <td>1NWLCHgnVeBb2TIup13b1RSOLOl3Cq</td>\n",
       "      <td>บัตรสมาชิก By อ.กุ้งเผาโคราช\\n\\n\\n\\nบัตรสมาชิก...</td>\n",
       "      <td>1</td>\n",
       "      <td>spam</td>\n",
       "    </tr>\n",
       "    <tr>\n",
       "      <th>3</th>\n",
       "      <td>1NWLC9rEila7y7EyYKPp17zCMkjHs2</td>\n",
       "      <td>สาวกเพื่อสุขภาพครับ</td>\n",
       "      <td>1</td>\n",
       "      <td>spam</td>\n",
       "    </tr>\n",
       "    <tr>\n",
       "      <th>4</th>\n",
       "      <td>1NWLCUe1qEBZtZEwInmjdBoce8XBF2</td>\n",
       "      <td>วันเกิด แจ้งพนักงาน รับฟรีฮันนีโทส1จานค่ะ\\n\\n\\n\\n</td>\n",
       "      <td>0</td>\n",
       "      <td>ham</td>\n",
       "    </tr>\n",
       "    <tr>\n",
       "      <th>...</th>\n",
       "      <td>...</td>\n",
       "      <td>...</td>\n",
       "      <td>...</td>\n",
       "      <td>...</td>\n",
       "    </tr>\n",
       "    <tr>\n",
       "      <th>2098</th>\n",
       "      <td>1NWLAvgSKGWWZhILvYEZFMqVOvguRO</td>\n",
       "      <td>Hmmmmmmm</td>\n",
       "      <td>1</td>\n",
       "      <td>spam</td>\n",
       "    </tr>\n",
       "    <tr>\n",
       "      <th>2099</th>\n",
       "      <td>1NWLBEniPtL93NmkjkudRZqI1AYlPD</td>\n",
       "      <td>โก้โก้\\n\\n\\n</td>\n",
       "      <td>1</td>\n",
       "      <td>spam</td>\n",
       "    </tr>\n",
       "    <tr>\n",
       "      <th>2100</th>\n",
       "      <td>1NWL9v9ua9oLaFs779duFoI9ft0fga</td>\n",
       "      <td>อิ่มคุ้ม สบายกระเป๋า กับชุด Super Save จับคู่ ...</td>\n",
       "      <td>0</td>\n",
       "      <td>ham</td>\n",
       "    </tr>\n",
       "    <tr>\n",
       "      <th>2102</th>\n",
       "      <td>1NWLBCWHKnRCd94ttE5Ax5L1fYKaTE</td>\n",
       "      <td>หมูนุ่มน้ำมันงา นุ่มละมุน ละลายในปาก หอมน้ำมัน...</td>\n",
       "      <td>1</td>\n",
       "      <td>spam</td>\n",
       "    </tr>\n",
       "    <tr>\n",
       "      <th>2104</th>\n",
       "      <td>1NWLBEnU3EMnAZNhFyRQQj9WgmEuyy</td>\n",
       "      <td>ขนมปังกรอบ</td>\n",
       "      <td>1</td>\n",
       "      <td>spam</td>\n",
       "    </tr>\n",
       "  </tbody>\n",
       "</table>\n",
       "<p>1535 rows × 4 columns</p>\n",
       "</div>"
      ],
      "text/plain": [
       "                         PromotionId  \\\n",
       "0     1NWLAzBwCUadj2dLNYVrTib3XuTL0T   \n",
       "1     1NWLD3dp7tdq34WkgzQGLiPQM7dFC5   \n",
       "2     1NWLCHgnVeBb2TIup13b1RSOLOl3Cq   \n",
       "3     1NWLC9rEila7y7EyYKPp17zCMkjHs2   \n",
       "4     1NWLCUe1qEBZtZEwInmjdBoce8XBF2   \n",
       "...                              ...   \n",
       "2098  1NWLAvgSKGWWZhILvYEZFMqVOvguRO   \n",
       "2099  1NWLBEniPtL93NmkjkudRZqI1AYlPD   \n",
       "2100  1NWL9v9ua9oLaFs779duFoI9ft0fga   \n",
       "2102  1NWLBCWHKnRCd94ttE5Ax5L1fYKaTE   \n",
       "2104  1NWLBEnU3EMnAZNhFyRQQj9WgmEuyy   \n",
       "\n",
       "                                            description  bad label  \n",
       "0                       ซาลาปัง จัดใหญ่แทนใจคนที่คุณรัก    0   ham  \n",
       "1     ทะเลทะลัก!! สุดยอดบุฟเฟ่ต์ทะเล ที่คุณไม่ควรพลา...    0   ham  \n",
       "2     บัตรสมาชิก By อ.กุ้งเผาโคราช\\n\\n\\n\\nบัตรสมาชิก...    1  spam  \n",
       "3                                   สาวกเพื่อสุขภาพครับ    1  spam  \n",
       "4     วันเกิด แจ้งพนักงาน รับฟรีฮันนีโทส1จานค่ะ\\n\\n\\n\\n    0   ham  \n",
       "...                                                 ...  ...   ...  \n",
       "2098                                           Hmmmmmmm    1  spam  \n",
       "2099                                       โก้โก้\\n\\n\\n    1  spam  \n",
       "2100  อิ่มคุ้ม สบายกระเป๋า กับชุด Super Save จับคู่ ...    0   ham  \n",
       "2102  หมูนุ่มน้ำมันงา นุ่มละมุน ละลายในปาก หอมน้ำมัน...    1  spam  \n",
       "2104                                         ขนมปังกรอบ    1  spam  \n",
       "\n",
       "[1535 rows x 4 columns]"
      ]
     },
     "execution_count": 64,
     "metadata": {},
     "output_type": "execute_result"
    }
   ],
   "source": [
    "df_train"
   ]
  },
  {
   "cell_type": "code",
   "execution_count": 65,
   "metadata": {},
   "outputs": [],
   "source": [
    "#tokenization\n",
    "desc = df_train['description'].values.tolist()\n",
    "labels = df_train['bad'].tolist()"
   ]
  },
  {
   "cell_type": "code",
   "execution_count": 66,
   "metadata": {},
   "outputs": [],
   "source": [
    "from sklearn.model_selection import train_test_split\n",
    "training_sentences, validation_sentences, training_labels, validation_labels = train_test_split(desc, labels, \n",
    "                                                                                               test_size=.2,stratify = labels)"
   ]
  },
  {
   "cell_type": "code",
   "execution_count": 67,
   "metadata": {},
   "outputs": [],
   "source": [
    "import tensorflow as tf\n",
    "from transformers import DistilBertTokenizerFast\n",
    "from transformers import TFDistilBertForSequenceClassification"
   ]
  },
  {
   "cell_type": "code",
   "execution_count": 68,
   "metadata": {},
   "outputs": [],
   "source": [
    "#Assign tokenizer object to the tokenizer class\n",
    "tokenizer = DistilBertTokenizerFast.from_pretrained('distilbert-base-uncased')"
   ]
  },
  {
   "cell_type": "code",
   "execution_count": 69,
   "metadata": {},
   "outputs": [
    {
     "data": {
      "text/plain": [
       "{'input_ids': [[101, 100, 1004, 100, 100, 999, 999, 999, 102]], 'attention_mask': [[1, 1, 1, 1, 1, 1, 1, 1, 1]]}"
      ]
     },
     "execution_count": 69,
     "metadata": {},
     "output_type": "execute_result"
    }
   ],
   "source": [
    "tokenizer([training_sentences[0]], truncation=True,padding=True, max_length=128)"
   ]
  },
  {
   "cell_type": "code",
   "execution_count": 70,
   "metadata": {},
   "outputs": [],
   "source": [
    "train_encodings = tokenizer(training_sentences,\n",
    "                            truncation=True,\n",
    "                            padding=True)\n",
    "\n",
    "val_encodings = tokenizer(validation_sentences,\n",
    "                            truncation=True,\n",
    "                            padding=True)"
   ]
  },
  {
   "cell_type": "code",
   "execution_count": 71,
   "metadata": {},
   "outputs": [],
   "source": [
    "train_dataset = tf.data.Dataset.from_tensor_slices((\n",
    "                            dict(train_encodings),\n",
    "                            training_labels\n",
    "                            ))\n",
    "\n",
    "val_dataset = tf.data.Dataset.from_tensor_slices((\n",
    "                            dict(val_encodings),\n",
    "                            validation_labels\n",
    "                            ))"
   ]
  },
  {
   "cell_type": "code",
   "execution_count": 72,
   "metadata": {},
   "outputs": [
    {
     "name": "stderr",
     "output_type": "stream",
     "text": [
      "Some layers from the model checkpoint at distilbert-base-uncased were not used when initializing TFDistilBertForSequenceClassification: ['vocab_layer_norm', 'vocab_projector', 'vocab_transform', 'activation_13']\n",
      "- This IS expected if you are initializing TFDistilBertForSequenceClassification from the checkpoint of a model trained on another task or with another architecture (e.g. initializing a BertForSequenceClassification model from a BertForPreTraining model).\n",
      "- This IS NOT expected if you are initializing TFDistilBertForSequenceClassification from the checkpoint of a model that you expect to be exactly identical (initializing a BertForSequenceClassification model from a BertForSequenceClassification model).\n",
      "Some layers of TFDistilBertForSequenceClassification were not initialized from the model checkpoint at distilbert-base-uncased and are newly initialized: ['dropout_19', 'classifier', 'pre_classifier']\n",
      "You should probably TRAIN this model on a down-stream task to be able to use it for predictions and inference.\n"
     ]
    }
   ],
   "source": [
    "model = TFDistilBertForSequenceClassification.from_pretrained('distilbert-base-uncased',num_labels=2)"
   ]
  },
  {
   "cell_type": "code",
   "execution_count": 73,
   "metadata": {},
   "outputs": [
    {
     "name": "stdout",
     "output_type": "stream",
     "text": [
      "Epoch 1/2\n",
      "77/77 [==============================] - 528s 7s/step - loss: 0.6001 - accuracy: 0.6840 - val_loss: 0.5810 - val_accuracy: 0.6971\n",
      "Epoch 2/2\n",
      "77/77 [==============================] - 534s 7s/step - loss: 0.5274 - accuracy: 0.7557 - val_loss: 0.5514 - val_accuracy: 0.7524\n"
     ]
    },
    {
     "data": {
      "text/plain": [
       "<keras.callbacks.History at 0x210e5a3d940>"
      ]
     },
     "execution_count": 73,
     "metadata": {},
     "output_type": "execute_result"
    }
   ],
   "source": [
    "optimizer = tf.keras.optimizers.Adam(learning_rate=5e-5, epsilon=1e-08)\n",
    "model.compile(optimizer=optimizer, loss=model.compute_loss, metrics=['accuracy'])\n",
    "model.fit(train_dataset.shuffle(100).batch(16),\n",
    "          epochs=2,\n",
    "          batch_size=16,\n",
    "          validation_data=val_dataset.shuffle(100).batch(16))"
   ]
  },
  {
   "cell_type": "code",
   "execution_count": 74,
   "metadata": {},
   "outputs": [],
   "source": [
    "test_sentence = \"อาหารนี้ดีต่อสุขภาพมาก\"\n",
    "predict_input = tokenizer.encode(test_sentence,\n",
    "                                 truncation=True,\n",
    "                                 padding=True,\n",
    "                                 return_tensors=\"tf\")"
   ]
  },
  {
   "cell_type": "code",
   "execution_count": 78,
   "metadata": {},
   "outputs": [
    {
     "name": "stdout",
     "output_type": "stream",
     "text": [
      "0\n"
     ]
    }
   ],
   "source": [
    "tf_output = model.predict(predict_input)[0]\n",
    "tf_prediction = tf.nn.softmax(tf_output, axis=1)\n",
    "labels = [1,0]\n",
    "label = tf.argmax(tf_prediction, axis=1)\n",
    "label = label.numpy()\n",
    "print(labels[label[0]])"
   ]
  },
  {
   "cell_type": "code",
   "execution_count": 80,
   "metadata": {},
   "outputs": [
    {
     "data": {
      "text/html": [
       "<div>\n",
       "<style scoped>\n",
       "    .dataframe tbody tr th:only-of-type {\n",
       "        vertical-align: middle;\n",
       "    }\n",
       "\n",
       "    .dataframe tbody tr th {\n",
       "        vertical-align: top;\n",
       "    }\n",
       "\n",
       "    .dataframe thead th {\n",
       "        text-align: right;\n",
       "    }\n",
       "</style>\n",
       "<table border=\"1\" class=\"dataframe\">\n",
       "  <thead>\n",
       "    <tr style=\"text-align: right;\">\n",
       "      <th></th>\n",
       "      <th>PromotionId</th>\n",
       "      <th>description</th>\n",
       "    </tr>\n",
       "  </thead>\n",
       "  <tbody>\n",
       "    <tr>\n",
       "      <th>0</th>\n",
       "      <td>1NWLA8yFGO4oZeRpAvdAY1JDJb6UtA</td>\n",
       "      <td>โปรโมชั่นพิเศษสำหรับ นักเรียน นักศึกษา เพียง แ...</td>\n",
       "    </tr>\n",
       "    <tr>\n",
       "      <th>1</th>\n",
       "      <td>1NWLAsDec3ZqmKAKk8cOgDmg5dVwuQ</td>\n",
       "      <td>ส่วนลด 10 บาททันที สำหรับลูกค้าในการซื้อแก้วแรก</td>\n",
       "    </tr>\n",
       "    <tr>\n",
       "      <th>2</th>\n",
       "      <td>1NWLAA6FbijUl5mqQ0Z2VTetfFlmRX</td>\n",
       "      <td>NaN</td>\n",
       "    </tr>\n",
       "    <tr>\n",
       "      <th>3</th>\n",
       "      <td>1NWLCX8ML1e2c5pkgf8oT1AVfAsFio</td>\n",
       "      <td>LINEMAN บริการส่งเค้กถึงมือท่าน</td>\n",
       "    </tr>\n",
       "    <tr>\n",
       "      <th>4</th>\n",
       "      <td>1NWLC0j3XRIwoXpTNXFkZVah0bnasd</td>\n",
       "      <td>2 วันสุดท้ายของเดือนนี้\\n\\n\\n30-31 สค 61</td>\n",
       "    </tr>\n",
       "    <tr>\n",
       "      <th>...</th>\n",
       "      <td>...</td>\n",
       "      <td>...</td>\n",
       "    </tr>\n",
       "    <tr>\n",
       "      <th>522</th>\n",
       "      <td>1NWLAjKUD2KjE4ZPVBtVxEQSl2wOWT</td>\n",
       "      <td>NaN</td>\n",
       "    </tr>\n",
       "    <tr>\n",
       "      <th>523</th>\n",
       "      <td>1NWLClAr0URjYKCGkrdMrdp7DKKPux</td>\n",
       "      <td>หากลูกค้ามารออาหารนานเกินไปหรือมาสั่งอาหารทานก...</td>\n",
       "    </tr>\n",
       "    <tr>\n",
       "      <th>524</th>\n",
       "      <td>1NWLBVtA5KYJ6AFZGQNNSZidnUzbfr</td>\n",
       "      <td>📣📣โปรโมชั่นวันแม่ปีนี้🎉🎉\\n\\n\\n\\nThe Park Coffe...</td>\n",
       "    </tr>\n",
       "    <tr>\n",
       "      <th>525</th>\n",
       "      <td>1NWLB36bUGWJEuQCMQX8XPSFKtyFxP</td>\n",
       "      <td>เมนูเนื้อริบอายวากิว A4 ลด 25% ทุกเมนู \\n\\n\\n\\...</td>\n",
       "    </tr>\n",
       "    <tr>\n",
       "      <th>526</th>\n",
       "      <td>1NWLAbwJVdfo1h3z1sQRWhwY8M4eDq</td>\n",
       "      <td>เฉพาะ 2 เมนูนี้เท่านั้น</td>\n",
       "    </tr>\n",
       "  </tbody>\n",
       "</table>\n",
       "<p>527 rows × 2 columns</p>\n",
       "</div>"
      ],
      "text/plain": [
       "                        PromotionId  \\\n",
       "0    1NWLA8yFGO4oZeRpAvdAY1JDJb6UtA   \n",
       "1    1NWLAsDec3ZqmKAKk8cOgDmg5dVwuQ   \n",
       "2    1NWLAA6FbijUl5mqQ0Z2VTetfFlmRX   \n",
       "3    1NWLCX8ML1e2c5pkgf8oT1AVfAsFio   \n",
       "4    1NWLC0j3XRIwoXpTNXFkZVah0bnasd   \n",
       "..                              ...   \n",
       "522  1NWLAjKUD2KjE4ZPVBtVxEQSl2wOWT   \n",
       "523  1NWLClAr0URjYKCGkrdMrdp7DKKPux   \n",
       "524  1NWLBVtA5KYJ6AFZGQNNSZidnUzbfr   \n",
       "525  1NWLB36bUGWJEuQCMQX8XPSFKtyFxP   \n",
       "526  1NWLAbwJVdfo1h3z1sQRWhwY8M4eDq   \n",
       "\n",
       "                                           description  \n",
       "0    โปรโมชั่นพิเศษสำหรับ นักเรียน นักศึกษา เพียง แ...  \n",
       "1      ส่วนลด 10 บาททันที สำหรับลูกค้าในการซื้อแก้วแรก  \n",
       "2                                                  NaN  \n",
       "3                      LINEMAN บริการส่งเค้กถึงมือท่าน  \n",
       "4             2 วันสุดท้ายของเดือนนี้\\n\\n\\n30-31 สค 61  \n",
       "..                                                 ...  \n",
       "522                                                NaN  \n",
       "523  หากลูกค้ามารออาหารนานเกินไปหรือมาสั่งอาหารทานก...  \n",
       "524  📣📣โปรโมชั่นวันแม่ปีนี้🎉🎉\\n\\n\\n\\nThe Park Coffe...  \n",
       "525  เมนูเนื้อริบอายวากิว A4 ลด 25% ทุกเมนู \\n\\n\\n\\...  \n",
       "526                            เฉพาะ 2 เมนูนี้เท่านั้น  \n",
       "\n",
       "[527 rows x 2 columns]"
      ]
     },
     "execution_count": 80,
     "metadata": {},
     "output_type": "execute_result"
    }
   ],
   "source": [
    "df_test = pd.read_csv('testing_set.csv')\n",
    "df_test"
   ]
  },
  {
   "cell_type": "code",
   "execution_count": 83,
   "metadata": {},
   "outputs": [],
   "source": [
    "testing = []\n",
    "for i in df_test['description']:\n",
    "    test = testing.append(i)\n",
    "test"
   ]
  },
  {
   "cell_type": "code",
   "execution_count": null,
   "metadata": {},
   "outputs": [],
   "source": []
  }
 ],
 "metadata": {
  "kernelspec": {
   "display_name": "Python 3",
   "language": "python",
   "name": "python3"
  },
  "language_info": {
   "codemirror_mode": {
    "name": "ipython",
    "version": 3
   },
   "file_extension": ".py",
   "mimetype": "text/x-python",
   "name": "python",
   "nbconvert_exporter": "python",
   "pygments_lexer": "ipython3",
   "version": "3.8.5"
  }
 },
 "nbformat": 4,
 "nbformat_minor": 4
}
