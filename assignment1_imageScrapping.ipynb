{
 "cells": [
  {
   "cell_type": "code",
   "execution_count": 9,
   "metadata": {},
   "outputs": [],
   "source": [
    "from selenium import webdriver\n",
    "from bs4 import BeautifulSoup\n",
    "import time\n",
    "import requests\n",
    "import urllib.request\n",
    "from fs.osfs import OSFS"
   ]
  },
  {
   "cell_type": "code",
   "execution_count": 10,
   "metadata": {},
   "outputs": [
    {
     "name": "stderr",
     "output_type": "stream",
     "text": [
      "C:\\Users\\Asus\\AppData\\Local\\Temp/ipykernel_19468/1758818096.py:4: DeprecationWarning: executable_path has been deprecated, please pass in a Service object\n",
      "  driver = webdriver.Chrome(executable_path = 'C:/Users/Asus/YontenLoday/machine learning with aj.sarayut/chromedriver')\n",
      "C:\\Users\\Asus\\AppData\\Local\\Temp/ipykernel_19468/1758818096.py:9: DeprecationWarning: executable_path has been deprecated, please pass in a Service object\n",
      "  driver = webdriver.Chrome(executable_path = 'C:/Users/Asus/YontenLoday/machine learning with aj.sarayut/chromedriver')\n",
      "C:\\Users\\Asus\\AppData\\Local\\Temp/ipykernel_19468/1758818096.py:17: DeprecationWarning: find_element_by_* commands are deprecated. Please use find_element() instead\n",
      "  driver.find_element_by_xpath('//*[@id=\"islmp\"]/div/div/div/div/div[2]/div[2]/input').click()\n"
     ]
    }
   ],
   "source": [
    "\n",
    "keywords = ['Apple' , 'Banana' , 'Cherry' , 'Orange']\n",
    "driver = webdriver.Chrome(executable_path = 'C:/Users/Asus/YontenLoday/machine learning with aj.sarayut/chromedriver')\n",
    "for keyword in keywords:\n",
    "    with OSFS('./download') as myfs:\n",
    "        if (not myfs.exists(keyword)):\n",
    "            myfs.makedir(keyword)\n",
    "    driver = webdriver.Chrome(executable_path = 'C:/Users/Asus/YontenLoday/machine learning with aj.sarayut/chromedriver')\n",
    "    site = 'https://google.com/search?q='+keyword+'&tbm=isch'+'&tbs=isz:lt,islt:svga'\n",
    "    driver.get(site)\n",
    "    \n",
    "    for i in range(0,7):\n",
    "        driver.execute_script(\"window.scrollBy(0,document.body.scrollHeight)\")\n",
    "        try:\n",
    "        # for clicking show more results button\n",
    "            driver.find_element_by_xpath('//*[@id=\"islmp\"]/div/div/div/div/div[2]/div[2]/input').click()\n",
    "        except Exception as e:\n",
    "            pass\n",
    "        time.sleep(3)\n",
    "        \n",
    "    soup = BeautifulSoup(driver.page_source, 'html.parser')\n",
    "    img_tags = soup.find_all('img', class_ = 'rg_i')\n",
    "    \n",
    "    count = 1 \n",
    "    for i in img_tags:\n",
    "        try:\n",
    "            path = 'download/'+ keyword +'/'+keyword + str(count) + '.jpg'\n",
    "            urllib.request.urlretrieve(i['src'], path)\n",
    "            count += 1\n",
    "        except Exception as e:\n",
    "            pass"
   ]
  }
 ],
 "metadata": {
  "kernelspec": {
   "display_name": "Python 3 (ipykernel)",
   "language": "python",
   "name": "python3"
  },
  "language_info": {
   "codemirror_mode": {
    "name": "ipython",
    "version": 3
   },
   "file_extension": ".py",
   "mimetype": "text/x-python",
   "name": "python",
   "nbconvert_exporter": "python",
   "pygments_lexer": "ipython3",
   "version": "3.9.7"
  }
 },
 "nbformat": 4,
 "nbformat_minor": 4
}
