{
 "cells": [
  {
   "cell_type": "code",
   "execution_count": 1,
   "metadata": {},
   "outputs": [],
   "source": [
    "import numpy as np\n",
    "import pandas as pd\n",
    "import json\n",
    "import requests\n",
    "import matplotlib.pyplot as plt"
   ]
  },
  {
   "cell_type": "code",
   "execution_count": 2,
   "metadata": {},
   "outputs": [],
   "source": [
    "df1 = pd.read_json('covidData.json',lines = False)\n",
    "df2 = pd.read_json('covidData2.json',lines = False)"
   ]
  },
  {
   "cell_type": "code",
   "execution_count": 3,
   "metadata": {},
   "outputs": [
    {
     "data": {
      "text/html": [
       "<div>\n",
       "<style scoped>\n",
       "    .dataframe tbody tr th:only-of-type {\n",
       "        vertical-align: middle;\n",
       "    }\n",
       "\n",
       "    .dataframe tbody tr th {\n",
       "        vertical-align: top;\n",
       "    }\n",
       "\n",
       "    .dataframe thead th {\n",
       "        text-align: right;\n",
       "    }\n",
       "</style>\n",
       "<table border=\"1\" class=\"dataframe\">\n",
       "  <thead>\n",
       "    <tr style=\"text-align: right;\">\n",
       "      <th></th>\n",
       "      <th>txn_date</th>\n",
       "      <th>province</th>\n",
       "      <th>new_case</th>\n",
       "      <th>total_case</th>\n",
       "      <th>update_date</th>\n",
       "    </tr>\n",
       "  </thead>\n",
       "  <tbody>\n",
       "    <tr>\n",
       "      <th>0</th>\n",
       "      <td>2021-04-01</td>\n",
       "      <td>กระบี่</td>\n",
       "      <td>0</td>\n",
       "      <td>27</td>\n",
       "      <td>2021-08-19 07:39:31</td>\n",
       "    </tr>\n",
       "    <tr>\n",
       "      <th>1</th>\n",
       "      <td>2021-04-01</td>\n",
       "      <td>กรุงเทพมหานคร</td>\n",
       "      <td>11</td>\n",
       "      <td>4855</td>\n",
       "      <td>2021-08-19 07:39:31</td>\n",
       "    </tr>\n",
       "    <tr>\n",
       "      <th>2</th>\n",
       "      <td>2021-04-01</td>\n",
       "      <td>กาญจนบุรี</td>\n",
       "      <td>0</td>\n",
       "      <td>16</td>\n",
       "      <td>2021-08-19 07:39:31</td>\n",
       "    </tr>\n",
       "    <tr>\n",
       "      <th>3</th>\n",
       "      <td>2021-04-01</td>\n",
       "      <td>กาฬสินธุ์</td>\n",
       "      <td>0</td>\n",
       "      <td>4</td>\n",
       "      <td>2021-08-19 07:39:31</td>\n",
       "    </tr>\n",
       "    <tr>\n",
       "      <th>4</th>\n",
       "      <td>2021-04-01</td>\n",
       "      <td>กำแพงเพชร</td>\n",
       "      <td>0</td>\n",
       "      <td>2</td>\n",
       "      <td>2021-08-19 07:39:31</td>\n",
       "    </tr>\n",
       "  </tbody>\n",
       "</table>\n",
       "</div>"
      ],
      "text/plain": [
       "     txn_date       province  new_case  total_case          update_date\n",
       "0  2021-04-01         กระบี่         0          27  2021-08-19 07:39:31\n",
       "1  2021-04-01  กรุงเทพมหานคร        11        4855  2021-08-19 07:39:31\n",
       "2  2021-04-01      กาญจนบุรี         0          16  2021-08-19 07:39:31\n",
       "3  2021-04-01      กาฬสินธุ์         0           4  2021-08-19 07:39:31\n",
       "4  2021-04-01      กำแพงเพชร         0           2  2021-08-19 07:39:31"
      ]
     },
     "execution_count": 3,
     "metadata": {},
     "output_type": "execute_result"
    }
   ],
   "source": [
    "df1.head()"
   ]
  },
  {
   "cell_type": "code",
   "execution_count": 4,
   "metadata": {},
   "outputs": [
    {
     "data": {
      "text/plain": [
       "(11076, 5)"
      ]
     },
     "execution_count": 4,
     "metadata": {},
     "output_type": "execute_result"
    }
   ],
   "source": [
    "df1.shape"
   ]
  },
  {
   "cell_type": "code",
   "execution_count": 5,
   "metadata": {},
   "outputs": [
    {
     "data": {
      "text/html": [
       "<div>\n",
       "<style scoped>\n",
       "    .dataframe tbody tr th:only-of-type {\n",
       "        vertical-align: middle;\n",
       "    }\n",
       "\n",
       "    .dataframe tbody tr th {\n",
       "        vertical-align: top;\n",
       "    }\n",
       "\n",
       "    .dataframe thead th {\n",
       "        text-align: right;\n",
       "    }\n",
       "</style>\n",
       "<table border=\"1\" class=\"dataframe\">\n",
       "  <thead>\n",
       "    <tr style=\"text-align: right;\">\n",
       "      <th></th>\n",
       "      <th>txn_date</th>\n",
       "      <th>province</th>\n",
       "      <th>new_case</th>\n",
       "      <th>total_case</th>\n",
       "      <th>update_date</th>\n",
       "    </tr>\n",
       "  </thead>\n",
       "  <tbody>\n",
       "    <tr>\n",
       "      <th>0</th>\n",
       "      <td>2020-01-12</td>\n",
       "      <td>กระบี่</td>\n",
       "      <td>0</td>\n",
       "      <td>0</td>\n",
       "      <td>NaN</td>\n",
       "    </tr>\n",
       "    <tr>\n",
       "      <th>1</th>\n",
       "      <td>2020-01-12</td>\n",
       "      <td>กรุงเทพมหานคร</td>\n",
       "      <td>1</td>\n",
       "      <td>1</td>\n",
       "      <td>NaN</td>\n",
       "    </tr>\n",
       "    <tr>\n",
       "      <th>2</th>\n",
       "      <td>2020-01-12</td>\n",
       "      <td>กาญจนบุรี</td>\n",
       "      <td>0</td>\n",
       "      <td>0</td>\n",
       "      <td>NaN</td>\n",
       "    </tr>\n",
       "    <tr>\n",
       "      <th>3</th>\n",
       "      <td>2020-01-12</td>\n",
       "      <td>กาฬสินธุ์</td>\n",
       "      <td>0</td>\n",
       "      <td>0</td>\n",
       "      <td>NaN</td>\n",
       "    </tr>\n",
       "    <tr>\n",
       "      <th>4</th>\n",
       "      <td>2020-01-12</td>\n",
       "      <td>กำแพงเพชร</td>\n",
       "      <td>0</td>\n",
       "      <td>0</td>\n",
       "      <td>NaN</td>\n",
       "    </tr>\n",
       "  </tbody>\n",
       "</table>\n",
       "</div>"
      ],
      "text/plain": [
       "     txn_date       province  new_case  total_case  update_date\n",
       "0  2020-01-12         กระบี่         0           0          NaN\n",
       "1  2020-01-12  กรุงเทพมหานคร         1           1          NaN\n",
       "2  2020-01-12      กาญจนบุรี         0           0          NaN\n",
       "3  2020-01-12      กาฬสินธุ์         0           0          NaN\n",
       "4  2020-01-12      กำแพงเพชร         0           0          NaN"
      ]
     },
     "execution_count": 5,
     "metadata": {},
     "output_type": "execute_result"
    }
   ],
   "source": [
    "df2.head()"
   ]
  },
  {
   "cell_type": "code",
   "execution_count": 6,
   "metadata": {},
   "outputs": [
    {
     "data": {
      "text/plain": [
       "(30342, 5)"
      ]
     },
     "execution_count": 6,
     "metadata": {},
     "output_type": "execute_result"
    }
   ],
   "source": [
    "df2.shape"
   ]
  },
  {
   "cell_type": "code",
   "execution_count": 7,
   "metadata": {},
   "outputs": [
    {
     "data": {
      "text/html": [
       "<div>\n",
       "<style scoped>\n",
       "    .dataframe tbody tr th:only-of-type {\n",
       "        vertical-align: middle;\n",
       "    }\n",
       "\n",
       "    .dataframe tbody tr th {\n",
       "        vertical-align: top;\n",
       "    }\n",
       "\n",
       "    .dataframe thead th {\n",
       "        text-align: right;\n",
       "    }\n",
       "</style>\n",
       "<table border=\"1\" class=\"dataframe\">\n",
       "  <thead>\n",
       "    <tr style=\"text-align: right;\">\n",
       "      <th></th>\n",
       "      <th>txn_date</th>\n",
       "      <th>province</th>\n",
       "      <th>new_case</th>\n",
       "      <th>total_case</th>\n",
       "      <th>update_date</th>\n",
       "    </tr>\n",
       "  </thead>\n",
       "  <tbody>\n",
       "    <tr>\n",
       "      <th>0</th>\n",
       "      <td>2021-04-01</td>\n",
       "      <td>กระบี่</td>\n",
       "      <td>0</td>\n",
       "      <td>27</td>\n",
       "      <td>2021-08-19 07:39:31</td>\n",
       "    </tr>\n",
       "    <tr>\n",
       "      <th>1</th>\n",
       "      <td>2021-04-01</td>\n",
       "      <td>กรุงเทพมหานคร</td>\n",
       "      <td>11</td>\n",
       "      <td>4855</td>\n",
       "      <td>2021-08-19 07:39:31</td>\n",
       "    </tr>\n",
       "    <tr>\n",
       "      <th>2</th>\n",
       "      <td>2021-04-01</td>\n",
       "      <td>กาญจนบุรี</td>\n",
       "      <td>0</td>\n",
       "      <td>16</td>\n",
       "      <td>2021-08-19 07:39:31</td>\n",
       "    </tr>\n",
       "    <tr>\n",
       "      <th>3</th>\n",
       "      <td>2021-04-01</td>\n",
       "      <td>กาฬสินธุ์</td>\n",
       "      <td>0</td>\n",
       "      <td>4</td>\n",
       "      <td>2021-08-19 07:39:31</td>\n",
       "    </tr>\n",
       "    <tr>\n",
       "      <th>4</th>\n",
       "      <td>2021-04-01</td>\n",
       "      <td>กำแพงเพชร</td>\n",
       "      <td>0</td>\n",
       "      <td>2</td>\n",
       "      <td>2021-08-19 07:39:31</td>\n",
       "    </tr>\n",
       "  </tbody>\n",
       "</table>\n",
       "</div>"
      ],
      "text/plain": [
       "     txn_date       province  new_case  total_case          update_date\n",
       "0  2021-04-01         กระบี่         0          27  2021-08-19 07:39:31\n",
       "1  2021-04-01  กรุงเทพมหานคร        11        4855  2021-08-19 07:39:31\n",
       "2  2021-04-01      กาญจนบุรี         0          16  2021-08-19 07:39:31\n",
       "3  2021-04-01      กาฬสินธุ์         0           4  2021-08-19 07:39:31\n",
       "4  2021-04-01      กำแพงเพชร         0           2  2021-08-19 07:39:31"
      ]
     },
     "execution_count": 7,
     "metadata": {},
     "output_type": "execute_result"
    }
   ],
   "source": [
    "data = [df1,df2]\n",
    "Cdata = pd.concat(data)\n",
    "\n",
    "Cdata.head()"
   ]
  },
  {
   "cell_type": "code",
   "execution_count": 8,
   "metadata": {},
   "outputs": [
    {
     "data": {
      "text/plain": [
       "(41418, 5)"
      ]
     },
     "execution_count": 8,
     "metadata": {},
     "output_type": "execute_result"
    }
   ],
   "source": [
    "Cdata.shape"
   ]
  },
  {
   "cell_type": "code",
   "execution_count": 9,
   "metadata": {},
   "outputs": [
    {
     "data": {
      "text/html": [
       "<div>\n",
       "<style scoped>\n",
       "    .dataframe tbody tr th:only-of-type {\n",
       "        vertical-align: middle;\n",
       "    }\n",
       "\n",
       "    .dataframe tbody tr th {\n",
       "        vertical-align: top;\n",
       "    }\n",
       "\n",
       "    .dataframe thead th {\n",
       "        text-align: right;\n",
       "    }\n",
       "</style>\n",
       "<table border=\"1\" class=\"dataframe\">\n",
       "  <thead>\n",
       "    <tr style=\"text-align: right;\">\n",
       "      <th></th>\n",
       "      <th>new_case</th>\n",
       "      <th>total_case</th>\n",
       "    </tr>\n",
       "    <tr>\n",
       "      <th>txn_date</th>\n",
       "      <th></th>\n",
       "      <th></th>\n",
       "    </tr>\n",
       "  </thead>\n",
       "  <tbody>\n",
       "    <tr>\n",
       "      <th>2020-01-12</th>\n",
       "      <td>1</td>\n",
       "      <td>1</td>\n",
       "    </tr>\n",
       "    <tr>\n",
       "      <th>2020-01-17</th>\n",
       "      <td>1</td>\n",
       "      <td>2</td>\n",
       "    </tr>\n",
       "    <tr>\n",
       "      <th>2020-01-22</th>\n",
       "      <td>2</td>\n",
       "      <td>4</td>\n",
       "    </tr>\n",
       "    <tr>\n",
       "      <th>2020-01-24</th>\n",
       "      <td>1</td>\n",
       "      <td>5</td>\n",
       "    </tr>\n",
       "    <tr>\n",
       "      <th>2020-01-25</th>\n",
       "      <td>1</td>\n",
       "      <td>6</td>\n",
       "    </tr>\n",
       "  </tbody>\n",
       "</table>\n",
       "</div>"
      ],
      "text/plain": [
       "            new_case  total_case\n",
       "txn_date                        \n",
       "2020-01-12         1           1\n",
       "2020-01-17         1           2\n",
       "2020-01-22         2           4\n",
       "2020-01-24         1           5\n",
       "2020-01-25         1           6"
      ]
     },
     "execution_count": 9,
     "metadata": {},
     "output_type": "execute_result"
    }
   ],
   "source": [
    "daily_case = Cdata.groupby(['txn_date']).sum()\n",
    "daily_case.head()"
   ]
  },
  {
   "cell_type": "code",
   "execution_count": 10,
   "metadata": {},
   "outputs": [
    {
     "data": {
      "text/plain": [
       "(531, 2)"
      ]
     },
     "execution_count": 10,
     "metadata": {},
     "output_type": "execute_result"
    }
   ],
   "source": [
    "daily_case.shape"
   ]
  },
  {
   "cell_type": "code",
   "execution_count": 11,
   "metadata": {},
   "outputs": [
    {
     "data": {
      "text/plain": [
       "<AxesSubplot:title={'center':'Thailand Covid daily cases'}, xlabel='Date', ylabel='Cases'>"
      ]
     },
     "execution_count": 11,
     "metadata": {},
     "output_type": "execute_result"
    },
    {
     "data": {
      "image/png": "[encoded data removed]",
      "text/plain": [
       "<Figure size 864x504 with 1 Axes>"
      ]
     },
     "metadata": {
      "needs_background": "light"
     },
     "output_type": "display_data"
    }
   ],
   "source": [
    "daily_case.plot(y='new_case',\n",
    "                figsize = (12,7),\n",
    "                title = \"Thailand Covid daily cases\",\n",
    "               ylabel = 'Cases',\n",
    "               xlabel = 'Date')"
   ]
  },
  {
   "cell_type": "code",
   "execution_count": 12,
   "metadata": {},
   "outputs": [
    {
     "name": "stdout",
     "output_type": "stream",
     "text": [
      "       txn_date       province  new_case  total_case          update_date\n",
      "1    2021-04-01  กรุงเทพมหานคร        11        4855  2021-08-19 07:39:31\n",
      "79   2021-04-02  กรุงเทพมหานคร        24        4879  2021-08-19 07:39:31\n",
      "157  2021-04-03  กรุงเทพมหานคร        41        4920  2021-08-19 07:39:31\n",
      "235  2021-04-04  กรุงเทพมหานคร        41        4961  2021-08-19 07:39:31\n",
      "313  2021-04-05  กรุงเทพมหานคร        55        5016  2021-08-19 07:39:31\n",
      "(531, 5)\n"
     ]
    }
   ],
   "source": [
    "#get bangkok covid data\n",
    "bangkok = Cdata[Cdata['province']=='กรุงเทพมหานคร']\n",
    "print(bangkok.head())\n",
    "print(bangkok.shape)"
   ]
  },
  {
   "cell_type": "code",
   "execution_count": 13,
   "metadata": {},
   "outputs": [
    {
     "data": {
      "text/html": [
       "<div>\n",
       "<style scoped>\n",
       "    .dataframe tbody tr th:only-of-type {\n",
       "        vertical-align: middle;\n",
       "    }\n",
       "\n",
       "    .dataframe tbody tr th {\n",
       "        vertical-align: top;\n",
       "    }\n",
       "\n",
       "    .dataframe thead th {\n",
       "        text-align: right;\n",
       "    }\n",
       "</style>\n",
       "<table border=\"1\" class=\"dataframe\">\n",
       "  <thead>\n",
       "    <tr style=\"text-align: right;\">\n",
       "      <th></th>\n",
       "      <th>new_case</th>\n",
       "      <th>total_case</th>\n",
       "    </tr>\n",
       "    <tr>\n",
       "      <th>txn_date</th>\n",
       "      <th></th>\n",
       "      <th></th>\n",
       "    </tr>\n",
       "  </thead>\n",
       "  <tbody>\n",
       "    <tr>\n",
       "      <th>2020-01-12</th>\n",
       "      <td>1</td>\n",
       "      <td>1</td>\n",
       "    </tr>\n",
       "    <tr>\n",
       "      <th>2020-01-17</th>\n",
       "      <td>1</td>\n",
       "      <td>2</td>\n",
       "    </tr>\n",
       "    <tr>\n",
       "      <th>2020-01-22</th>\n",
       "      <td>1</td>\n",
       "      <td>3</td>\n",
       "    </tr>\n",
       "    <tr>\n",
       "      <th>2020-01-24</th>\n",
       "      <td>0</td>\n",
       "      <td>3</td>\n",
       "    </tr>\n",
       "    <tr>\n",
       "      <th>2020-01-25</th>\n",
       "      <td>1</td>\n",
       "      <td>4</td>\n",
       "    </tr>\n",
       "  </tbody>\n",
       "</table>\n",
       "</div>"
      ],
      "text/plain": [
       "            new_case  total_case\n",
       "txn_date                        \n",
       "2020-01-12         1           1\n",
       "2020-01-17         1           2\n",
       "2020-01-22         1           3\n",
       "2020-01-24         0           3\n",
       "2020-01-25         1           4"
      ]
     },
     "execution_count": 13,
     "metadata": {},
     "output_type": "execute_result"
    }
   ],
   "source": [
    "bangkok_case = bangkok.groupby(['txn_date']).sum()\n",
    "bangkok_case.head()"
   ]
  },
  {
   "cell_type": "code",
   "execution_count": 14,
   "metadata": {},
   "outputs": [
    {
     "data": {
      "text/plain": [
       "<AxesSubplot:title={'center':'Bangkok Daily cases'}, xlabel='Date', ylabel='Cases'>"
      ]
     },
     "execution_count": 14,
     "metadata": {},
     "output_type": "execute_result"
    },
    {
     "data": {
      "image/png": "[encoded data removed]",
      "text/plain": [
       "<Figure size 864x504 with 1 Axes>"
      ]
     },
     "metadata": {
      "needs_background": "light"
     },
     "output_type": "display_data"
    }
   ],
   "source": [
    "bangkok_case.plot(y = 'new_case',\n",
    "                 figsize = (12,7),\n",
    "                 title = 'Bangkok Daily cases',\n",
    "                 ylabel = 'Cases',\n",
    "                 xlabel = 'Date')"
   ]
  },
  {
   "cell_type": "code",
   "execution_count": 15,
   "metadata": {},
   "outputs": [
    {
     "data": {
      "text/html": [
       "<div>\n",
       "<style scoped>\n",
       "    .dataframe tbody tr th:only-of-type {\n",
       "        vertical-align: middle;\n",
       "    }\n",
       "\n",
       "    .dataframe tbody tr th {\n",
       "        vertical-align: top;\n",
       "    }\n",
       "\n",
       "    .dataframe thead th {\n",
       "        text-align: right;\n",
       "    }\n",
       "</style>\n",
       "<table border=\"1\" class=\"dataframe\">\n",
       "  <thead>\n",
       "    <tr style=\"text-align: right;\">\n",
       "      <th></th>\n",
       "      <th>txn_date</th>\n",
       "      <th>province</th>\n",
       "      <th>new_case</th>\n",
       "      <th>total_case</th>\n",
       "      <th>update_date</th>\n",
       "    </tr>\n",
       "  </thead>\n",
       "  <tbody>\n",
       "    <tr>\n",
       "      <th>79</th>\n",
       "      <td>2021-04-02</td>\n",
       "      <td>กรุงเทพมหานคร</td>\n",
       "      <td>24</td>\n",
       "      <td>4879</td>\n",
       "      <td>2021-08-19 07:39:31</td>\n",
       "    </tr>\n",
       "    <tr>\n",
       "      <th>157</th>\n",
       "      <td>2021-04-03</td>\n",
       "      <td>กรุงเทพมหานคร</td>\n",
       "      <td>41</td>\n",
       "      <td>4920</td>\n",
       "      <td>2021-08-19 07:39:31</td>\n",
       "    </tr>\n",
       "    <tr>\n",
       "      <th>235</th>\n",
       "      <td>2021-04-04</td>\n",
       "      <td>กรุงเทพมหานคร</td>\n",
       "      <td>41</td>\n",
       "      <td>4961</td>\n",
       "      <td>2021-08-19 07:39:31</td>\n",
       "    </tr>\n",
       "    <tr>\n",
       "      <th>313</th>\n",
       "      <td>2021-04-05</td>\n",
       "      <td>กรุงเทพมหานคร</td>\n",
       "      <td>55</td>\n",
       "      <td>5016</td>\n",
       "      <td>2021-08-19 07:39:31</td>\n",
       "    </tr>\n",
       "    <tr>\n",
       "      <th>391</th>\n",
       "      <td>2021-04-06</td>\n",
       "      <td>กรุงเทพมหานคร</td>\n",
       "      <td>157</td>\n",
       "      <td>5173</td>\n",
       "      <td>2021-08-19 07:39:31</td>\n",
       "    </tr>\n",
       "  </tbody>\n",
       "</table>\n",
       "</div>"
      ],
      "text/plain": [
       "       txn_date       province  new_case  total_case          update_date\n",
       "79   2021-04-02  กรุงเทพมหานคร        24        4879  2021-08-19 07:39:31\n",
       "157  2021-04-03  กรุงเทพมหานคร        41        4920  2021-08-19 07:39:31\n",
       "235  2021-04-04  กรุงเทพมหานคร        41        4961  2021-08-19 07:39:31\n",
       "313  2021-04-05  กรุงเทพมหานคร        55        5016  2021-08-19 07:39:31\n",
       "391  2021-04-06  กรุงเทพมหานคร       157        5173  2021-08-19 07:39:31"
      ]
     },
     "execution_count": 15,
     "metadata": {},
     "output_type": "execute_result"
    }
   ],
   "source": [
    "bangkok_aprilON = bangkok.groupby(['txn_date']).sum()\n",
    "bangkok_aprilON = bangkok[bangkok['txn_date'] > '2021-04-01']\n",
    "bangkok_aprilON.head()"
   ]
  },
  {
   "cell_type": "code",
   "execution_count": 17,
   "metadata": {},
   "outputs": [
    {
     "data": {
      "text/plain": [
       "<AxesSubplot:title={'center':'Bangkok April Onwards'}, xlabel='Date', ylabel='Cases'>"
      ]
     },
     "execution_count": 17,
     "metadata": {},
     "output_type": "execute_result"
    },
    {
     "data": {
      "image/png": "[encoded data removed]",
      "text/plain": [
       "<Figure size 864x432 with 1 Axes>"
      ]
     },
     "metadata": {
      "needs_background": "light"
     },
     "output_type": "display_data"
    }
   ],
   "source": [
    "bangkok_aprilON.plot(x = 'txn_date', \n",
    "                     y = 'new_case',\n",
    "                    figsize = (12,6),\n",
    "                    title = 'Bangkok April Onwards',\n",
    "                    xlabel = 'Date',\n",
    "                    ylabel = 'Cases')"
   ]
  }
 ],
 "metadata": {
  "kernelspec": {
   "display_name": "Python 3",
   "language": "python",
   "name": "python3"
  },
  "language_info": {
   "codemirror_mode": {
    "name": "ipython",
    "version": 3
   },
   "file_extension": ".py",
   "mimetype": "text/x-python",
   "name": "python",
   "nbconvert_exporter": "python",
   "pygments_lexer": "ipython3",
   "version": "3.8.5"
  }
 },
 "nbformat": 4,
 "nbformat_minor": 4
}
