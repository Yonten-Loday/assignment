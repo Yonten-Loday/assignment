{
 "cells": [
  {
   "cell_type": "code",
   "execution_count": 1,
   "metadata": {},
   "outputs": [],
   "source": [
    "import pandas as pd\n",
    "import numpy as np\n",
    "import seaborn as sns\n",
    "import matplotlib.pyplot as plt"
   ]
  },
  {
   "cell_type": "code",
   "execution_count": 2,
   "metadata": {},
   "outputs": [
    {
     "name": "stderr",
     "output_type": "stream",
     "text": [
      "C:\\Users\\Asus\\anaconda3\\lib\\site-packages\\IPython\\core\\interactiveshell.py:3146: DtypeWarning: Columns (6) have mixed types.Specify dtype option on import or set low_memory=False.\n",
      "  has_raised = await self.run_ast_nodes(code_ast.body, cell_name,\n"
     ]
    },
    {
     "data": {
      "text/html": [
       "<div>\n",
       "<style scoped>\n",
       "    .dataframe tbody tr th:only-of-type {\n",
       "        vertical-align: middle;\n",
       "    }\n",
       "\n",
       "    .dataframe tbody tr th {\n",
       "        vertical-align: top;\n",
       "    }\n",
       "\n",
       "    .dataframe thead th {\n",
       "        text-align: right;\n",
       "    }\n",
       "</style>\n",
       "<table border=\"1\" class=\"dataframe\">\n",
       "  <thead>\n",
       "    <tr style=\"text-align: right;\">\n",
       "      <th></th>\n",
       "      <th>Year</th>\n",
       "      <th>Month</th>\n",
       "      <th>Day</th>\n",
       "      <th>Hour</th>\n",
       "      <th>Minute</th>\n",
       "      <th>Second</th>\n",
       "      <th>Carbon_Monoxide</th>\n",
       "      <th>PM_2.5</th>\n",
       "      <th>External_Temperature</th>\n",
       "      <th>Humidity</th>\n",
       "      <th>Internal_Temperature</th>\n",
       "      <th></th>\n",
       "    </tr>\n",
       "  </thead>\n",
       "  <tbody>\n",
       "    <tr>\n",
       "      <th>1</th>\n",
       "      <td>2020.0</td>\n",
       "      <td>6.0</td>\n",
       "      <td>18</td>\n",
       "      <td>14</td>\n",
       "      <td>30.0</td>\n",
       "      <td>43.0</td>\n",
       "      <td>201</td>\n",
       "      <td>25.0</td>\n",
       "      <td>29.0</td>\n",
       "      <td>95.0</td>\n",
       "      <td>27.19</td>\n",
       "      <td>4.39</td>\n",
       "    </tr>\n",
       "    <tr>\n",
       "      <th>2</th>\n",
       "      <td>2020.0</td>\n",
       "      <td>6.0</td>\n",
       "      <td>18</td>\n",
       "      <td>14</td>\n",
       "      <td>30.0</td>\n",
       "      <td>48.0</td>\n",
       "      <td>201</td>\n",
       "      <td>25.0</td>\n",
       "      <td>29.0</td>\n",
       "      <td>95.0</td>\n",
       "      <td>27.19</td>\n",
       "      <td>4.38</td>\n",
       "    </tr>\n",
       "    <tr>\n",
       "      <th>3</th>\n",
       "      <td>2020.0</td>\n",
       "      <td>6.0</td>\n",
       "      <td>18</td>\n",
       "      <td>14</td>\n",
       "      <td>31.0</td>\n",
       "      <td>3.0</td>\n",
       "      <td>201</td>\n",
       "      <td>25.0</td>\n",
       "      <td>29.0</td>\n",
       "      <td>95.0</td>\n",
       "      <td>27.19</td>\n",
       "      <td>4.38</td>\n",
       "    </tr>\n",
       "    <tr>\n",
       "      <th>4</th>\n",
       "      <td>2020.0</td>\n",
       "      <td>6.0</td>\n",
       "      <td>18</td>\n",
       "      <td>14</td>\n",
       "      <td>31.0</td>\n",
       "      <td>8.0</td>\n",
       "      <td>201</td>\n",
       "      <td>25.0</td>\n",
       "      <td>29.0</td>\n",
       "      <td>95.0</td>\n",
       "      <td>27.19</td>\n",
       "      <td>4.41</td>\n",
       "    </tr>\n",
       "    <tr>\n",
       "      <th>5</th>\n",
       "      <td>2020.0</td>\n",
       "      <td>6.0</td>\n",
       "      <td>18</td>\n",
       "      <td>14</td>\n",
       "      <td>31.0</td>\n",
       "      <td>13.0</td>\n",
       "      <td>201</td>\n",
       "      <td>25.0</td>\n",
       "      <td>29.0</td>\n",
       "      <td>95.0</td>\n",
       "      <td>27.25</td>\n",
       "      <td>4.41</td>\n",
       "    </tr>\n",
       "  </tbody>\n",
       "</table>\n",
       "</div>"
      ],
      "text/plain": [
       "     Year  Month  Day  Hour  Minute  Second Carbon_Monoxide  PM_2.5  \\\n",
       "1  2020.0    6.0   18    14    30.0    43.0             201    25.0   \n",
       "2  2020.0    6.0   18    14    30.0    48.0             201    25.0   \n",
       "3  2020.0    6.0   18    14    31.0     3.0             201    25.0   \n",
       "4  2020.0    6.0   18    14    31.0     8.0             201    25.0   \n",
       "5  2020.0    6.0   18    14    31.0    13.0             201    25.0   \n",
       "\n",
       "   External_Temperature  Humidity  Internal_Temperature        \n",
       "1                  29.0      95.0                 27.19  4.39  \n",
       "2                  29.0      95.0                 27.19  4.38  \n",
       "3                  29.0      95.0                 27.19  4.38  \n",
       "4                  29.0      95.0                 27.19  4.41  \n",
       "5                  29.0      95.0                 27.25  4.41  "
      ]
     },
     "execution_count": 2,
     "metadata": {},
     "output_type": "execute_result"
    }
   ],
   "source": [
    "df = pd.read_csv('../Teacher Ferdin/fishdata.csv', encoding = 'unicode_escape',header = None)\n",
    "column_names = ['Year','Month','Day','Hour','Minute','Second','Carbon_Monoxide','PM_2.5','External_Temperature','Humidity','Internal_Temperature',' ']\n",
    "df.columns = column_names\n",
    "df.drop(index = df.index[0], inplace = True)\n",
    "df.head()"
   ]
  },
  {
   "cell_type": "code",
   "execution_count": 3,
   "metadata": {},
   "outputs": [
    {
     "data": {
      "text/plain": [
       "Year                    float64\n",
       "Month                   float64\n",
       "Day                       int64\n",
       "Hour                      int64\n",
       "Minute                  float64\n",
       "Second                  float64\n",
       "Carbon_Monoxide          object\n",
       "PM_2.5                  float64\n",
       "External_Temperature    float64\n",
       "Humidity                float64\n",
       "Internal_Temperature    float64\n",
       "                        float64\n",
       "dtype: object"
      ]
     },
     "execution_count": 3,
     "metadata": {},
     "output_type": "execute_result"
    }
   ],
   "source": [
    "df.dtypes"
   ]
  },
  {
   "cell_type": "code",
   "execution_count": 4,
   "metadata": {},
   "outputs": [],
   "source": [
    "df['Carbon_Monoxide'] = df['Carbon_Monoxide'].apply(pd.to_numeric, errors='coerce')"
   ]
  },
  {
   "cell_type": "code",
   "execution_count": 5,
   "metadata": {},
   "outputs": [
    {
     "data": {
      "text/html": [
       "<div>\n",
       "<style scoped>\n",
       "    .dataframe tbody tr th:only-of-type {\n",
       "        vertical-align: middle;\n",
       "    }\n",
       "\n",
       "    .dataframe tbody tr th {\n",
       "        vertical-align: top;\n",
       "    }\n",
       "\n",
       "    .dataframe thead th {\n",
       "        text-align: right;\n",
       "    }\n",
       "</style>\n",
       "<table border=\"1\" class=\"dataframe\">\n",
       "  <thead>\n",
       "    <tr style=\"text-align: right;\">\n",
       "      <th></th>\n",
       "      <th>Month</th>\n",
       "      <th>External_Temperature</th>\n",
       "      <th>Internal_Temperature</th>\n",
       "      <th>Humidity</th>\n",
       "      <th>Carbon_Monoxide</th>\n",
       "    </tr>\n",
       "  </thead>\n",
       "  <tbody>\n",
       "    <tr>\n",
       "      <th>1</th>\n",
       "      <td>6.0</td>\n",
       "      <td>29.0</td>\n",
       "      <td>27.19</td>\n",
       "      <td>95.0</td>\n",
       "      <td>201.0</td>\n",
       "    </tr>\n",
       "    <tr>\n",
       "      <th>2</th>\n",
       "      <td>6.0</td>\n",
       "      <td>29.0</td>\n",
       "      <td>27.19</td>\n",
       "      <td>95.0</td>\n",
       "      <td>201.0</td>\n",
       "    </tr>\n",
       "    <tr>\n",
       "      <th>3</th>\n",
       "      <td>6.0</td>\n",
       "      <td>29.0</td>\n",
       "      <td>27.19</td>\n",
       "      <td>95.0</td>\n",
       "      <td>201.0</td>\n",
       "    </tr>\n",
       "    <tr>\n",
       "      <th>4</th>\n",
       "      <td>6.0</td>\n",
       "      <td>29.0</td>\n",
       "      <td>27.19</td>\n",
       "      <td>95.0</td>\n",
       "      <td>201.0</td>\n",
       "    </tr>\n",
       "    <tr>\n",
       "      <th>5</th>\n",
       "      <td>6.0</td>\n",
       "      <td>29.0</td>\n",
       "      <td>27.25</td>\n",
       "      <td>95.0</td>\n",
       "      <td>201.0</td>\n",
       "    </tr>\n",
       "  </tbody>\n",
       "</table>\n",
       "</div>"
      ],
      "text/plain": [
       "   Month  External_Temperature  Internal_Temperature  Humidity  \\\n",
       "1    6.0                  29.0                 27.19      95.0   \n",
       "2    6.0                  29.0                 27.19      95.0   \n",
       "3    6.0                  29.0                 27.19      95.0   \n",
       "4    6.0                  29.0                 27.19      95.0   \n",
       "5    6.0                  29.0                 27.25      95.0   \n",
       "\n",
       "   Carbon_Monoxide  \n",
       "1            201.0  \n",
       "2            201.0  \n",
       "3            201.0  \n",
       "4            201.0  \n",
       "5            201.0  "
      ]
     },
     "execution_count": 5,
     "metadata": {},
     "output_type": "execute_result"
    }
   ],
   "source": [
    "pivot_cols = ['Month','External_Temperature','Internal_Temperature','Humidity','Carbon_Monoxide']\n",
    "pivot_df = df[pivot_cols]\n",
    "pivot_df.head()"
   ]
  },
  {
   "cell_type": "code",
   "execution_count": 2,
   "metadata": {},
   "outputs": [
    {
     "ename": "NameError",
     "evalue": "name 'df' is not defined",
     "output_type": "error",
     "traceback": [
      "\u001b[1;31m---------------------------------------------------------------------------\u001b[0m",
      "\u001b[1;31mNameError\u001b[0m                                 Traceback (most recent call last)",
      "\u001b[1;32m<ipython-input-2-313b79766ebd>\u001b[0m in \u001b[0;36m<module>\u001b[1;34m\u001b[0m\n\u001b[0;32m      1\u001b[0m \u001b[1;32mimport\u001b[0m \u001b[0mpandas\u001b[0m \u001b[1;32mas\u001b[0m \u001b[0mpd\u001b[0m\u001b[1;33m\u001b[0m\u001b[1;33m\u001b[0m\u001b[0m\n\u001b[1;32m----> 2\u001b[1;33m \u001b[0mpivot\u001b[0m \u001b[1;33m=\u001b[0m \u001b[0mpd\u001b[0m\u001b[1;33m.\u001b[0m\u001b[0mpivot_table\u001b[0m\u001b[1;33m(\u001b[0m\u001b[0mdf\u001b[0m\u001b[1;33m,\u001b[0m \u001b[0mindex\u001b[0m\u001b[1;33m=\u001b[0m\u001b[0mdf\u001b[0m\u001b[1;33m.\u001b[0m\u001b[0mindex\u001b[0m\u001b[1;33m.\u001b[0m\u001b[0mdayofyear\u001b[0m\u001b[1;33m,\u001b[0m \u001b[0mcolumns\u001b[0m\u001b[1;33m=\u001b[0m\u001b[0mdf\u001b[0m\u001b[1;33m.\u001b[0m\u001b[0mindex\u001b[0m\u001b[1;33m.\u001b[0m\u001b[0myear\u001b[0m\u001b[1;33m,\u001b[0m\u001b[0mvalues\u001b[0m\u001b[1;33m=\u001b[0m\u001b[1;34m'PM2.5'\u001b[0m\u001b[1;33m,\u001b[0m \u001b[0maggfunc\u001b[0m\u001b[1;33m=\u001b[0m\u001b[1;34m'mean'\u001b[0m\u001b[1;33m)\u001b[0m\u001b[1;33m\u001b[0m\u001b[1;33m\u001b[0m\u001b[0m\n\u001b[0m\u001b[0;32m      3\u001b[0m \u001b[0mpivot\u001b[0m\u001b[1;33m\u001b[0m\u001b[1;33m\u001b[0m\u001b[0m\n",
      "\u001b[1;31mNameError\u001b[0m: name 'df' is not defined"
     ]
    }
   ],
   "source": [
    "pivot_table = pd.pivot_table(pivot_df,index = 'Month', \n",
    "                             values = ['External_Temperature','Internal_Temperature','Humidity','Carbon_Monoxide'], \n",
    "                             aggfunc=np.mean)\n",
    "pivot_table.head()"
   ]
  },
  {
   "cell_type": "code",
   "execution_count": 7,
   "metadata": {},
   "outputs": [
    {
     "data": {
      "text/html": [
       "<div>\n",
       "<style scoped>\n",
       "    .dataframe tbody tr th:only-of-type {\n",
       "        vertical-align: middle;\n",
       "    }\n",
       "\n",
       "    .dataframe tbody tr th {\n",
       "        vertical-align: top;\n",
       "    }\n",
       "\n",
       "    .dataframe thead th {\n",
       "        text-align: right;\n",
       "    }\n",
       "</style>\n",
       "<table border=\"1\" class=\"dataframe\">\n",
       "  <thead>\n",
       "    <tr style=\"text-align: right;\">\n",
       "      <th></th>\n",
       "      <th>Month</th>\n",
       "      <th>External_Temperature</th>\n",
       "      <th>Internal_Temperature</th>\n",
       "      <th>Humidity</th>\n",
       "      <th>Carbon_Monoxide</th>\n",
       "    </tr>\n",
       "  </thead>\n",
       "  <tbody>\n",
       "    <tr>\n",
       "      <th>count</th>\n",
       "      <td>8.119460e+05</td>\n",
       "      <td>811851.000000</td>\n",
       "      <td>811843.000000</td>\n",
       "      <td>811843.000000</td>\n",
       "      <td>810195.000000</td>\n",
       "    </tr>\n",
       "    <tr>\n",
       "      <th>mean</th>\n",
       "      <td>2.617098e+00</td>\n",
       "      <td>30.827049</td>\n",
       "      <td>28.486738</td>\n",
       "      <td>94.627387</td>\n",
       "      <td>212.696645</td>\n",
       "    </tr>\n",
       "    <tr>\n",
       "      <th>std</th>\n",
       "      <td>2.519275e+03</td>\n",
       "      <td>5.682789</td>\n",
       "      <td>2.600313</td>\n",
       "      <td>5.387394</td>\n",
       "      <td>52.229390</td>\n",
       "    </tr>\n",
       "    <tr>\n",
       "      <th>min</th>\n",
       "      <td>-1.912020e+06</td>\n",
       "      <td>-999.000000</td>\n",
       "      <td>2.970000</td>\n",
       "      <td>-999.000000</td>\n",
       "      <td>-183.000000</td>\n",
       "    </tr>\n",
       "    <tr>\n",
       "      <th>25%</th>\n",
       "      <td>7.000000e+00</td>\n",
       "      <td>29.000000</td>\n",
       "      <td>27.060000</td>\n",
       "      <td>95.000000</td>\n",
       "      <td>183.000000</td>\n",
       "    </tr>\n",
       "    <tr>\n",
       "      <th>50%</th>\n",
       "      <td>7.000000e+00</td>\n",
       "      <td>30.000000</td>\n",
       "      <td>28.250000</td>\n",
       "      <td>95.000000</td>\n",
       "      <td>198.000000</td>\n",
       "    </tr>\n",
       "    <tr>\n",
       "      <th>75%</th>\n",
       "      <td>8.000000e+00</td>\n",
       "      <td>32.000000</td>\n",
       "      <td>30.250000</td>\n",
       "      <td>95.000000</td>\n",
       "      <td>244.000000</td>\n",
       "    </tr>\n",
       "    <tr>\n",
       "      <th>max</th>\n",
       "      <td>2.020000e+03</td>\n",
       "      <td>310.000000</td>\n",
       "      <td>95.000000</td>\n",
       "      <td>95.000000</td>\n",
       "      <td>334.000000</td>\n",
       "    </tr>\n",
       "  </tbody>\n",
       "</table>\n",
       "</div>"
      ],
      "text/plain": [
       "              Month  External_Temperature  Internal_Temperature  \\\n",
       "count  8.119460e+05         811851.000000         811843.000000   \n",
       "mean   2.617098e+00             30.827049             28.486738   \n",
       "std    2.519275e+03              5.682789              2.600313   \n",
       "min   -1.912020e+06           -999.000000              2.970000   \n",
       "25%    7.000000e+00             29.000000             27.060000   \n",
       "50%    7.000000e+00             30.000000             28.250000   \n",
       "75%    8.000000e+00             32.000000             30.250000   \n",
       "max    2.020000e+03            310.000000             95.000000   \n",
       "\n",
       "            Humidity  Carbon_Monoxide  \n",
       "count  811843.000000    810195.000000  \n",
       "mean       94.627387       212.696645  \n",
       "std         5.387394        52.229390  \n",
       "min      -999.000000      -183.000000  \n",
       "25%        95.000000       183.000000  \n",
       "50%        95.000000       198.000000  \n",
       "75%        95.000000       244.000000  \n",
       "max        95.000000       334.000000  "
      ]
     },
     "execution_count": 7,
     "metadata": {},
     "output_type": "execute_result"
    }
   ],
   "source": [
    "pivot_df.describe()"
   ]
  },
  {
   "cell_type": "code",
   "execution_count": 8,
   "metadata": {},
   "outputs": [
    {
     "data": {
      "text/plain": [
       "Month                      0\n",
       "External_Temperature      95\n",
       "Internal_Temperature     103\n",
       "Humidity                 103\n",
       "Carbon_Monoxide         1751\n",
       "dtype: int64"
      ]
     },
     "execution_count": 8,
     "metadata": {},
     "output_type": "execute_result"
    }
   ],
   "source": [
    "pivot_df.isnull().sum()"
   ]
  },
  {
   "cell_type": "code",
   "execution_count": 9,
   "metadata": {},
   "outputs": [
    {
     "data": {
      "text/plain": [
       "(811946, 5)"
      ]
     },
     "execution_count": 9,
     "metadata": {},
     "output_type": "execute_result"
    }
   ],
   "source": [
    "pivot_df.shape"
   ]
  },
  {
   "cell_type": "code",
   "execution_count": 10,
   "metadata": {},
   "outputs": [
    {
     "data": {
      "text/plain": [
       "(810164, 5)"
      ]
     },
     "execution_count": 10,
     "metadata": {},
     "output_type": "execute_result"
    }
   ],
   "source": [
    "pivot_df.dropna().shape"
   ]
  },
  {
   "cell_type": "code",
   "execution_count": 11,
   "metadata": {},
   "outputs": [
    {
     "name": "stderr",
     "output_type": "stream",
     "text": [
      "C:\\Users\\Asus\\anaconda3\\lib\\site-packages\\pandas\\core\\frame.py:4163: SettingWithCopyWarning: \n",
      "A value is trying to be set on a copy of a slice from a DataFrame\n",
      "\n",
      "See the caveats in the documentation: https://pandas.pydata.org/pandas-docs/stable/user_guide/indexing.html#returning-a-view-versus-a-copy\n",
      "  return super().drop(\n",
      "C:\\Users\\Asus\\anaconda3\\lib\\site-packages\\pandas\\core\\frame.py:4163: SettingWithCopyWarning: \n",
      "A value is trying to be set on a copy of a slice from a DataFrame\n",
      "\n",
      "See the caveats in the documentation: https://pandas.pydata.org/pandas-docs/stable/user_guide/indexing.html#returning-a-view-versus-a-copy\n",
      "  return super().drop(\n",
      "C:\\Users\\Asus\\anaconda3\\lib\\site-packages\\pandas\\core\\frame.py:4163: SettingWithCopyWarning: \n",
      "A value is trying to be set on a copy of a slice from a DataFrame\n",
      "\n",
      "See the caveats in the documentation: https://pandas.pydata.org/pandas-docs/stable/user_guide/indexing.html#returning-a-view-versus-a-copy\n",
      "  return super().drop(\n",
      "C:\\Users\\Asus\\anaconda3\\lib\\site-packages\\pandas\\core\\frame.py:4163: SettingWithCopyWarning: \n",
      "A value is trying to be set on a copy of a slice from a DataFrame\n",
      "\n",
      "See the caveats in the documentation: https://pandas.pydata.org/pandas-docs/stable/user_guide/indexing.html#returning-a-view-versus-a-copy\n",
      "  return super().drop(\n"
     ]
    }
   ],
   "source": [
    "#removing irregular month\n",
    "pivot_df.drop(pivot_df[pivot_df['Month'] < 0].index, inplace = True)\n",
    "pivot_df.drop(pivot_df[pivot_df['Month'] > 12].index, inplace = True)\n",
    "\n",
    "#removing irregular external temperature\n",
    "pivot_df.drop(pivot_df[pivot_df['External_Temperature'] < 0].index, inplace = True)\n",
    "\n",
    "#removing irregularities in humidity\n",
    "pivot_df.drop(pivot_df[pivot_df['Humidity'] < 0].index, inplace = True)"
   ]
  },
  {
   "cell_type": "code",
   "execution_count": 12,
   "metadata": {},
   "outputs": [
    {
     "data": {
      "text/html": [
       "<div>\n",
       "<style scoped>\n",
       "    .dataframe tbody tr th:only-of-type {\n",
       "        vertical-align: middle;\n",
       "    }\n",
       "\n",
       "    .dataframe tbody tr th {\n",
       "        vertical-align: top;\n",
       "    }\n",
       "\n",
       "    .dataframe thead th {\n",
       "        text-align: right;\n",
       "    }\n",
       "</style>\n",
       "<table border=\"1\" class=\"dataframe\">\n",
       "  <thead>\n",
       "    <tr style=\"text-align: right;\">\n",
       "      <th></th>\n",
       "      <th>Carbon_Monoxide</th>\n",
       "      <th>External_Temperature</th>\n",
       "      <th>Humidity</th>\n",
       "      <th>Internal_Temperature</th>\n",
       "    </tr>\n",
       "    <tr>\n",
       "      <th>Month</th>\n",
       "      <th></th>\n",
       "      <th></th>\n",
       "      <th></th>\n",
       "      <th></th>\n",
       "    </tr>\n",
       "  </thead>\n",
       "  <tbody>\n",
       "    <tr>\n",
       "      <th>6.0</th>\n",
       "      <td>263.695942</td>\n",
       "      <td>29.523070</td>\n",
       "      <td>95.000000</td>\n",
       "      <td>28.768610</td>\n",
       "    </tr>\n",
       "    <tr>\n",
       "      <th>7.0</th>\n",
       "      <td>214.589750</td>\n",
       "      <td>31.784893</td>\n",
       "      <td>94.679568</td>\n",
       "      <td>29.164226</td>\n",
       "    </tr>\n",
       "    <tr>\n",
       "      <th>8.0</th>\n",
       "      <td>170.644520</td>\n",
       "      <td>31.439748</td>\n",
       "      <td>94.445248</td>\n",
       "      <td>28.217644</td>\n",
       "    </tr>\n",
       "    <tr>\n",
       "      <th>9.0</th>\n",
       "      <td>181.894307</td>\n",
       "      <td>29.370660</td>\n",
       "      <td>94.230240</td>\n",
       "      <td>26.458460</td>\n",
       "    </tr>\n",
       "    <tr>\n",
       "      <th>10.0</th>\n",
       "      <td>182.701963</td>\n",
       "      <td>28.678679</td>\n",
       "      <td>94.234710</td>\n",
       "      <td>26.327375</td>\n",
       "    </tr>\n",
       "  </tbody>\n",
       "</table>\n",
       "</div>"
      ],
      "text/plain": [
       "       Carbon_Monoxide  External_Temperature   Humidity  Internal_Temperature\n",
       "Month                                                                        \n",
       "6.0         263.695942             29.523070  95.000000             28.768610\n",
       "7.0         214.589750             31.784893  94.679568             29.164226\n",
       "8.0         170.644520             31.439748  94.445248             28.217644\n",
       "9.0         181.894307             29.370660  94.230240             26.458460\n",
       "10.0        182.701963             28.678679  94.234710             26.327375"
      ]
     },
     "execution_count": 12,
     "metadata": {},
     "output_type": "execute_result"
    }
   ],
   "source": [
    "new_pivot_table = pd.pivot_table(pivot_df,index = 'Month', \n",
    "                             values = ['External_Temperature','Internal_Temperature','Humidity','Carbon_Monoxide'], \n",
    "                             aggfunc=np.mean)\n",
    "new_pivot_table.head()"
   ]
  },
  {
   "cell_type": "code",
   "execution_count": 33,
   "metadata": {},
   "outputs": [
    {
     "data": {
      "text/html": [
       "<div>\n",
       "<style scoped>\n",
       "    .dataframe tbody tr th:only-of-type {\n",
       "        vertical-align: middle;\n",
       "    }\n",
       "\n",
       "    .dataframe tbody tr th {\n",
       "        vertical-align: top;\n",
       "    }\n",
       "\n",
       "    .dataframe thead th {\n",
       "        text-align: right;\n",
       "    }\n",
       "</style>\n",
       "<table border=\"1\" class=\"dataframe\">\n",
       "  <thead>\n",
       "    <tr style=\"text-align: right;\">\n",
       "      <th></th>\n",
       "      <th>Carbon_Monoxide</th>\n",
       "      <th>External_Temperature</th>\n",
       "      <th>Humidity</th>\n",
       "      <th>Internal_Temperature</th>\n",
       "    </tr>\n",
       "  </thead>\n",
       "  <tbody>\n",
       "    <tr>\n",
       "      <th>count</th>\n",
       "      <td>5.000000</td>\n",
       "      <td>5.000000</td>\n",
       "      <td>5.000000</td>\n",
       "      <td>5.000000</td>\n",
       "    </tr>\n",
       "    <tr>\n",
       "      <th>mean</th>\n",
       "      <td>202.705297</td>\n",
       "      <td>30.159410</td>\n",
       "      <td>94.517953</td>\n",
       "      <td>27.787263</td>\n",
       "    </tr>\n",
       "    <tr>\n",
       "      <th>std</th>\n",
       "      <td>37.822689</td>\n",
       "      <td>1.369405</td>\n",
       "      <td>0.326642</td>\n",
       "      <td>1.317316</td>\n",
       "    </tr>\n",
       "    <tr>\n",
       "      <th>min</th>\n",
       "      <td>170.644520</td>\n",
       "      <td>28.678679</td>\n",
       "      <td>94.230240</td>\n",
       "      <td>26.327375</td>\n",
       "    </tr>\n",
       "    <tr>\n",
       "      <th>25%</th>\n",
       "      <td>181.894307</td>\n",
       "      <td>29.370660</td>\n",
       "      <td>94.234710</td>\n",
       "      <td>26.458460</td>\n",
       "    </tr>\n",
       "    <tr>\n",
       "      <th>50%</th>\n",
       "      <td>182.701963</td>\n",
       "      <td>29.523070</td>\n",
       "      <td>94.445248</td>\n",
       "      <td>28.217644</td>\n",
       "    </tr>\n",
       "    <tr>\n",
       "      <th>75%</th>\n",
       "      <td>214.589750</td>\n",
       "      <td>31.439748</td>\n",
       "      <td>94.679568</td>\n",
       "      <td>28.768610</td>\n",
       "    </tr>\n",
       "    <tr>\n",
       "      <th>max</th>\n",
       "      <td>263.695942</td>\n",
       "      <td>31.784893</td>\n",
       "      <td>95.000000</td>\n",
       "      <td>29.164226</td>\n",
       "    </tr>\n",
       "  </tbody>\n",
       "</table>\n",
       "</div>"
      ],
      "text/plain": [
       "       Carbon_Monoxide  External_Temperature   Humidity  Internal_Temperature\n",
       "count         5.000000              5.000000   5.000000              5.000000\n",
       "mean        202.705297             30.159410  94.517953             27.787263\n",
       "std          37.822689              1.369405   0.326642              1.317316\n",
       "min         170.644520             28.678679  94.230240             26.327375\n",
       "25%         181.894307             29.370660  94.234710             26.458460\n",
       "50%         182.701963             29.523070  94.445248             28.217644\n",
       "75%         214.589750             31.439748  94.679568             28.768610\n",
       "max         263.695942             31.784893  95.000000             29.164226"
      ]
     },
     "execution_count": 33,
     "metadata": {},
     "output_type": "execute_result"
    }
   ],
   "source": [
    "new_pivot_table.describe()"
   ]
  },
  {
   "cell_type": "code",
   "execution_count": 13,
   "metadata": {},
   "outputs": [],
   "source": [
    "x = new_pivot_table.index\n",
    "y1 = new_pivot_table['Carbon_Monoxide']\n",
    "y2 = new_pivot_table['External_Temperature']\n",
    "y3 = new_pivot_table['Humidity']\n",
    "y4 = new_pivot_table['Internal_Temperature']"
   ]
  },
  {
   "cell_type": "code",
   "execution_count": 17,
   "metadata": {},
   "outputs": [
    {
     "data": {
      "text/plain": [
       "Text(0.5, 1.0, 'Internal Temperature')"
      ]
     },
     "execution_count": 17,
     "metadata": {},
     "output_type": "execute_result"
    },
    {
     "data": {
      "image/png": "[encoded data removed]",
      "text/plain": [
       "<Figure size 432x288 with 4 Axes>"
      ]
     },
     "metadata": {
      "needs_background": "light"
     },
     "output_type": "display_data"
    }
   ],
   "source": [
    "fig,axs = plt.subplots(2,2)\n",
    "fig.tight_layout()\n",
    "\n",
    "axs[0,0].plot(x,y1)\n",
    "axs[0,0].set_title('Carbon Monoxide')\n",
    "\n",
    "axs[0,1].plot(x,y2)\n",
    "axs[0,1].set_title('External Temperature')\n",
    "\n",
    "axs[1,0].plot(x,y3)\n",
    "axs[1,0].set_title('Humididty')\n",
    "\n",
    "axs[1,1].plot(x,y4)\n",
    "axs[1,1].set_title('Internal Temperature')"
   ]
  },
  {
   "cell_type": "code",
   "execution_count": 15,
   "metadata": {},
   "outputs": [
    {
     "data": {
      "text/plain": [
       "[<matplotlib.lines.Line2D at 0x1feab5c8b50>,\n",
       " <matplotlib.lines.Line2D at 0x1feab5c8a00>,\n",
       " <matplotlib.lines.Line2D at 0x1feab5c89d0>,\n",
       " <matplotlib.lines.Line2D at 0x1feab5c8d00>]"
      ]
     },
     "execution_count": 15,
     "metadata": {},
     "output_type": "execute_result"
    },
    {
     "data": {
      "image/png": "[encoded data removed]",
      "text/plain": [
       "<Figure size 432x288 with 1 Axes>"
      ]
     },
     "metadata": {
      "needs_background": "light"
     },
     "output_type": "display_data"
    }
   ],
   "source": [
    "plt.plot(x,\n",
    "         y1,'r-',\n",
    "         y2,'b-',\n",
    "         y3,'black',\n",
    "         y4,'g-')"
   ]
  },
  {
   "cell_type": "code",
   "execution_count": 74,
   "metadata": {},
   "outputs": [
    {
     "data": {
      "text/plain": [
       "<matplotlib.legend.Legend at 0x1fec6d8f0a0>"
      ]
     },
     "execution_count": 74,
     "metadata": {},
     "output_type": "execute_result"
    },
    {
     "data": {
      "image/png": "[encoded data removed]",
      "text/plain": [
       "<Figure size 432x288 with 1 Axes>"
      ]
     },
     "metadata": {
      "needs_background": "light"
     },
     "output_type": "display_data"
    }
   ],
   "source": [
    "plt.plot(x,y2,'ro-',label = 'External_temp')\n",
    "plt.plot(x,y4,'g^-',label = 'Internal_temp')\n",
    "plt.legend()"
   ]
  },
  {
   "cell_type": "code",
   "execution_count": 51,
   "metadata": {},
   "outputs": [
    {
     "data": {
      "image/png": "[encoded data removed]",
      "text/plain": [
       "<Figure size 432x288 with 1 Axes>"
      ]
     },
     "metadata": {
      "needs_background": "light"
     },
     "output_type": "display_data"
    }
   ],
   "source": [
    "#histogram\n",
    "plt.hist(y3, bins = 4, density = True, histtype = 'stepfilled', alpha = 0.5)\n",
    "plt.grid(axis='y', alpha=0.75)\n",
    "plt.show()"
   ]
  },
  {
   "cell_type": "code",
   "execution_count": 55,
   "metadata": {},
   "outputs": [
    {
     "data": {
      "image/png": "[encoded data removed]",
      "text/plain": [
       "<Figure size 432x288 with 1 Axes>"
      ]
     },
     "metadata": {
      "needs_background": "light"
     },
     "output_type": "display_data"
    }
   ],
   "source": [
    "In_mean = y4.mean()\n",
    "Ex_mean = y2.mean()\n",
    "\n",
    "Temp = ['Internal', 'External']\n",
    "x_pos = np.arange(len(Temp))\n",
    "CTEs = [In_mean , Ex_mean]\n",
    "fig, ax = plt.subplots()\n",
    "\n",
    "ax.bar(x_pos, CTEs, align='center', alpha=0.5)\n",
    "ax.set_ylabel('Temperature')\n",
    "ax.set_xticks(x_pos)\n",
    "ax.set_xticklabels(Temp)\n",
    "ax.set_title('Internal vs External')\n",
    "ax.yaxis.grid(True)\n",
    "ax.xaxis.grid(True)\n",
    "\n",
    "# Save the figure and show\n",
    "plt.tight_layout()\n",
    "plt.savefig('Internal vs External.png')\n",
    "plt.show()"
   ]
  },
  {
   "cell_type": "code",
   "execution_count": null,
   "metadata": {},
   "outputs": [],
   "source": []
  }
 ],
 "metadata": {
  "kernelspec": {
   "display_name": "Python 3",
   "language": "python",
   "name": "python3"
  },
  "language_info": {
   "codemirror_mode": {
    "name": "ipython",
    "version": 3
   },
   "file_extension": ".py",
   "mimetype": "text/x-python",
   "name": "python",
   "nbconvert_exporter": "python",
   "pygments_lexer": "ipython3",
   "version": "3.8.5"
  }
 },
 "nbformat": 4,
 "nbformat_minor": 4
}
