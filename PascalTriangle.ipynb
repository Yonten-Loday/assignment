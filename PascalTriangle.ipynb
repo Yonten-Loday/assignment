{
 "cells": [
  {
   "cell_type": "code",
   "execution_count": 59,
   "metadata": {},
   "outputs": [
    {
     "name": "stdout",
     "output_type": "stream",
     "text": [
      "[[1 0 0 0 0]\n",
      " [1 1 0 0 0]\n",
      " [1 2 1 0 0]\n",
      " [1 3 3 1 0]\n",
      " [1 4 6 4 1]]\n"
     ]
    }
   ],
   "source": [
    "# Pascal triangle using numpy\n",
    "import numpy as np\n",
    "\n",
    "n = 5 # number of rows of pascal's triangle to compute\n",
    "    \n",
    "p_triangle = np.zeros((n, n), dtype = int)\n",
    "p_triangle[0, 0] = 1\n",
    "p_triangle[1,0] = p_triangle[1,1] = 1\n",
    "\n",
    "for n in range(2, n):\n",
    "    for r in range(0, n+1):\n",
    "        p_triangle[n, r] = p_triangle[n-1, r-1] + p_triangle[n-1, r]\n",
    "print(p_triangle)"
   ]
  },
  {
   "cell_type": "code",
   "execution_count": 52,
   "metadata": {},
   "outputs": [
    {
     "name": "stdout",
     "output_type": "stream",
     "text": [
      "            1 \n",
      "          1   1 \n",
      "        1   2   1 \n",
      "      1   3   3   1 \n",
      "    1   4   6   4   1 \n"
     ]
    }
   ],
   "source": [
    "#pascal triangle using for loops\n",
    "\n",
    "n = 5\n",
    "for i in range(1,n+1):\n",
    "    for j in range(0,n-i+1):\n",
    "        print(' ',end = ' ')\n",
    "    c = 1 \n",
    "    for j in range(1, i+1):\n",
    "        print('  ', c, sep = '', end =' ')\n",
    "        c = c* (i-j)//j\n",
    "    print()"
   ]
  },
  {
   "cell_type": "code",
   "execution_count": 51,
   "metadata": {},
   "outputs": [
    {
     "name": "stdout",
     "output_type": "stream",
     "text": [
      "[[1 0 0 0 0]\n",
      " [1 1 0 0 0]\n",
      " [1 2 1 0 0]\n",
      " [1 3 3 1 0]\n",
      " [1 4 6 4 1]]\n"
     ]
    }
   ],
   "source": [
    "#pascal triangle using pascal function\n",
    "\n",
    "from scipy.linalg import pascal\n",
    "n = 5\n",
    "pascal = pascal(n,kind='lower')\n",
    "print(pascal)"
   ]
  },
  {
   "cell_type": "code",
   "execution_count": 61,
   "metadata": {},
   "outputs": [
    {
     "name": "stdout",
     "output_type": "stream",
     "text": [
      "          1\n",
      "         1 1\n",
      "        1 2 1\n",
      "       1 3 3 1\n",
      "      1 4 6 4 1\n",
      "     1 6 1 0 5 1\n",
      "    1 7 7 1 5 6 1\n",
      "   1 9 4 8 7 1 7 1\n",
      "  2 1 4 3 5 8 8 8 1\n",
      " 2 3 5 7 9 4 7 6 9 1\n"
     ]
    }
   ],
   "source": [
    "# Pascal triangle\n",
    "n = 10\n",
    "\n",
    "# iterarte upto n\n",
    "for i in range(n):\n",
    "    print(' '*(n-i), end='')\n",
    "    # compute power of 11\n",
    "    print(' '.join(map(str, str(11**i))))\n",
    "    \n",
    "#11**0 = 1\n",
    "#11**1 = 11\n",
    "#11**2 = 121\n",
    "#11**3 = 1331"
   ]
  },
  {
   "cell_type": "code",
   "execution_count": null,
   "metadata": {},
   "outputs": [],
   "source": []
  }
 ],
 "metadata": {
  "kernelspec": {
   "display_name": "Python 3",
   "language": "python",
   "name": "python3"
  },
  "language_info": {
   "codemirror_mode": {
    "name": "ipython",
    "version": 3
   },
   "file_extension": ".py",
   "mimetype": "text/x-python",
   "name": "python",
   "nbconvert_exporter": "python",
   "pygments_lexer": "ipython3",
   "version": "3.8.5"
  }
 },
 "nbformat": 4,
 "nbformat_minor": 4
}
